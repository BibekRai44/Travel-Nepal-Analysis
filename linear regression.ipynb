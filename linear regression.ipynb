{
 "cells": [
  {
   "cell_type": "markdown",
   "id": "d86103f9",
   "metadata": {
    "papermill": {
     "duration": 0.007786,
     "end_time": "2023-03-29T05:19:02.986965",
     "exception": false,
     "start_time": "2023-03-29T05:19:02.979179",
     "status": "completed"
    },
    "tags": []
   },
   "source": [
    "## In this notobook, I have used LinearRegression to predict cost and time based on different parameters."
   ]
  },
  {
   "cell_type": "code",
   "execution_count": 1,
   "id": "b84aea91",
   "metadata": {
    "execution": {
     "iopub.execute_input": "2023-03-29T05:19:03.002060Z",
     "iopub.status.busy": "2023-03-29T05:19:03.001585Z",
     "iopub.status.idle": "2023-03-29T05:19:03.857891Z",
     "shell.execute_reply": "2023-03-29T05:19:03.856361Z"
    },
    "papermill": {
     "duration": 0.868346,
     "end_time": "2023-03-29T05:19:03.862057",
     "exception": false,
     "start_time": "2023-03-29T05:19:02.993711",
     "status": "completed"
    },
    "tags": []
   },
   "outputs": [],
   "source": [
    "#importing necessary libraries\n",
    "import pandas as pd\n",
    "import numpy as np\n",
    "import sklearn\n",
    "import warnings\n",
    "import re\n",
    "warnings.filterwarnings('ignore')"
   ]
  },
  {
   "cell_type": "code",
   "execution_count": 2,
   "id": "a23aedfc",
   "metadata": {
    "execution": {
     "iopub.execute_input": "2023-03-29T05:19:03.883893Z",
     "iopub.status.busy": "2023-03-29T05:19:03.883426Z",
     "iopub.status.idle": "2023-03-29T05:19:03.944612Z",
     "shell.execute_reply": "2023-03-29T05:19:03.943251Z"
    },
    "papermill": {
     "duration": 0.077053,
     "end_time": "2023-03-29T05:19:03.948871",
     "exception": false,
     "start_time": "2023-03-29T05:19:03.871818",
     "status": "completed"
    },
    "tags": []
   },
   "outputs": [],
   "source": [
    "#necessary modeule\n",
    "\n",
    "%load_ext autoreload\n",
    "%autoreload 2"
   ]
  },
  {
   "cell_type": "code",
   "execution_count": 3,
   "id": "55909649",
   "metadata": {
    "execution": {
     "iopub.execute_input": "2023-03-29T05:19:03.964895Z",
     "iopub.status.busy": "2023-03-29T05:19:03.964007Z",
     "iopub.status.idle": "2023-03-29T05:19:04.025282Z",
     "shell.execute_reply": "2023-03-29T05:19:04.023742Z"
    },
    "papermill": {
     "duration": 0.071809,
     "end_time": "2023-03-29T05:19:04.028284",
     "exception": false,
     "start_time": "2023-03-29T05:19:03.956475",
     "status": "completed"
    },
    "tags": []
   },
   "outputs": [],
   "source": [
    "#reading dataset\n",
    "data=pd.read_csv('/kaggle/input/nepal-travel-data/Data.csv')"
   ]
  },
  {
   "cell_type": "code",
   "execution_count": 4,
   "id": "ed9957cb",
   "metadata": {
    "execution": {
     "iopub.execute_input": "2023-03-29T05:19:04.043114Z",
     "iopub.status.busy": "2023-03-29T05:19:04.042264Z",
     "iopub.status.idle": "2023-03-29T05:19:04.088111Z",
     "shell.execute_reply": "2023-03-29T05:19:04.086655Z"
    },
    "papermill": {
     "duration": 0.056445,
     "end_time": "2023-03-29T05:19:04.091024",
     "exception": false,
     "start_time": "2023-03-29T05:19:04.034579",
     "status": "completed"
    },
    "tags": []
   },
   "outputs": [],
   "source": [
    "#dropping unwanted columns\n",
    "data=data.drop(columns='Unnamed: 0')"
   ]
  },
  {
   "cell_type": "code",
   "execution_count": 5,
   "id": "9e882b76",
   "metadata": {
    "execution": {
     "iopub.execute_input": "2023-03-29T05:19:04.105751Z",
     "iopub.status.busy": "2023-03-29T05:19:04.105328Z",
     "iopub.status.idle": "2023-03-29T05:19:04.148617Z",
     "shell.execute_reply": "2023-03-29T05:19:04.147378Z"
    },
    "papermill": {
     "duration": 0.054205,
     "end_time": "2023-03-29T05:19:04.151499",
     "exception": false,
     "start_time": "2023-03-29T05:19:04.097294",
     "status": "completed"
    },
    "tags": []
   },
   "outputs": [],
   "source": [
    "#changing time column datatype\n",
    "data['Time'] = data['Time'].apply(lambda x: re.sub(r'\\b[Dd]ays?\\b', '', x)).astype(int)"
   ]
  },
  {
   "cell_type": "code",
   "execution_count": 6,
   "id": "a21e3145",
   "metadata": {
    "execution": {
     "iopub.execute_input": "2023-03-29T05:19:04.165825Z",
     "iopub.status.busy": "2023-03-29T05:19:04.165389Z",
     "iopub.status.idle": "2023-03-29T05:19:04.207869Z",
     "shell.execute_reply": "2023-03-29T05:19:04.206390Z"
    },
    "papermill": {
     "duration": 0.052913,
     "end_time": "2023-03-29T05:19:04.210764",
     "exception": false,
     "start_time": "2023-03-29T05:19:04.157851",
     "status": "completed"
    },
    "tags": []
   },
   "outputs": [],
   "source": [
    "#changing cost column datatype\n",
    "data['Cost']=data['Cost'].str.replace('$','').str.replace('USD','').str.replace(',','').str.replace('\\n','').astype(int)"
   ]
  },
  {
   "cell_type": "code",
   "execution_count": 7,
   "id": "9d6f4213",
   "metadata": {
    "execution": {
     "iopub.execute_input": "2023-03-29T05:19:04.225505Z",
     "iopub.status.busy": "2023-03-29T05:19:04.225049Z",
     "iopub.status.idle": "2023-03-29T05:19:04.265356Z",
     "shell.execute_reply": "2023-03-29T05:19:04.263998Z"
    },
    "papermill": {
     "duration": 0.051163,
     "end_time": "2023-03-29T05:19:04.268497",
     "exception": false,
     "start_time": "2023-03-29T05:19:04.217334",
     "status": "completed"
    },
    "tags": []
   },
   "outputs": [],
   "source": [
    "#changing altitude column datatype\n",
    "data['Max Altitude']=data['Max Altitude'].str.replace('m','').str.replace(',','').astype(int)"
   ]
  },
  {
   "cell_type": "code",
   "execution_count": 8,
   "id": "306cceda",
   "metadata": {
    "execution": {
     "iopub.execute_input": "2023-03-29T05:19:04.283419Z",
     "iopub.status.busy": "2023-03-29T05:19:04.282966Z",
     "iopub.status.idle": "2023-03-29T05:19:04.326150Z",
     "shell.execute_reply": "2023-03-29T05:19:04.324827Z"
    },
    "papermill": {
     "duration": 0.054281,
     "end_time": "2023-03-29T05:19:04.329347",
     "exception": false,
     "start_time": "2023-03-29T05:19:04.275066",
     "status": "completed"
    },
    "tags": []
   },
   "outputs": [
    {
     "data": {
      "text/plain": [
       "Trek                         object\n",
       "Cost                          int64\n",
       "Time                          int64\n",
       "Trip Grade                   object\n",
       "Max Altitude                  int64\n",
       "Accomodation                 object\n",
       "Best Travel Time             object\n",
       "Contact or Book your Trip    object\n",
       "dtype: object"
      ]
     },
     "execution_count": 8,
     "metadata": {},
     "output_type": "execute_result"
    }
   ],
   "source": [
    "#rechecking datatypes\n",
    "data.dtypes"
   ]
  },
  {
   "cell_type": "markdown",
   "id": "aa41c2c2",
   "metadata": {
    "papermill": {
     "duration": 0.005985,
     "end_time": "2023-03-29T05:19:04.341811",
     "exception": false,
     "start_time": "2023-03-29T05:19:04.335826",
     "status": "completed"
    },
    "tags": []
   },
   "source": [
    "#### Below, I have predicted total Cost required in trek in user input Time."
   ]
  },
  {
   "cell_type": "code",
   "execution_count": 9,
   "id": "a45e2b83",
   "metadata": {
    "execution": {
     "iopub.execute_input": "2023-03-29T05:19:04.356365Z",
     "iopub.status.busy": "2023-03-29T05:19:04.355952Z",
     "iopub.status.idle": "2023-03-29T05:19:04.393437Z",
     "shell.execute_reply": "2023-03-29T05:19:04.392039Z"
    },
    "papermill": {
     "duration": 0.048304,
     "end_time": "2023-03-29T05:19:04.396395",
     "exception": false,
     "start_time": "2023-03-29T05:19:04.348091",
     "status": "completed"
    },
    "tags": []
   },
   "outputs": [],
   "source": [
    "#taking variable x as Time and y as Cost\n",
    "x=data['Time'].values.reshape(-1,1)\n",
    "y=data['Cost'].values.reshape(-1,1)"
   ]
  },
  {
   "cell_type": "code",
   "execution_count": 10,
   "id": "3eba9149",
   "metadata": {
    "execution": {
     "iopub.execute_input": "2023-03-29T05:19:04.412312Z",
     "iopub.status.busy": "2023-03-29T05:19:04.411484Z",
     "iopub.status.idle": "2023-03-29T05:19:04.632513Z",
     "shell.execute_reply": "2023-03-29T05:19:04.631174Z"
    },
    "papermill": {
     "duration": 0.231788,
     "end_time": "2023-03-29T05:19:04.635598",
     "exception": false,
     "start_time": "2023-03-29T05:19:04.403810",
     "status": "completed"
    },
    "tags": []
   },
   "outputs": [],
   "source": [
    "#importing necessary libraries required in LinearRegression\n",
    "from sklearn.model_selection import train_test_split\n",
    "from sklearn.linear_model import LinearRegression"
   ]
  },
  {
   "cell_type": "code",
   "execution_count": 11,
   "id": "9f71bfcd",
   "metadata": {
    "execution": {
     "iopub.execute_input": "2023-03-29T05:19:04.650904Z",
     "iopub.status.busy": "2023-03-29T05:19:04.649736Z",
     "iopub.status.idle": "2023-03-29T05:19:04.690675Z",
     "shell.execute_reply": "2023-03-29T05:19:04.689256Z"
    },
    "papermill": {
     "duration": 0.051571,
     "end_time": "2023-03-29T05:19:04.693518",
     "exception": false,
     "start_time": "2023-03-29T05:19:04.641947",
     "status": "completed"
    },
    "tags": []
   },
   "outputs": [],
   "source": [
    "#splitting data into testing and training phase\n",
    "X_train,X_test,y_train,y_test=train_test_split(x,y,random_state=42,test_size=0.8)"
   ]
  },
  {
   "cell_type": "code",
   "execution_count": 12,
   "id": "13d4b90f",
   "metadata": {
    "execution": {
     "iopub.execute_input": "2023-03-29T05:19:04.708532Z",
     "iopub.status.busy": "2023-03-29T05:19:04.708141Z",
     "iopub.status.idle": "2023-03-29T05:19:04.765470Z",
     "shell.execute_reply": "2023-03-29T05:19:04.764226Z"
    },
    "papermill": {
     "duration": 0.068129,
     "end_time": "2023-03-29T05:19:04.768111",
     "exception": false,
     "start_time": "2023-03-29T05:19:04.699982",
     "status": "completed"
    },
    "tags": []
   },
   "outputs": [
    {
     "data": {
      "text/plain": [
       "LinearRegression()"
      ]
     },
     "execution_count": 12,
     "metadata": {},
     "output_type": "execute_result"
    }
   ],
   "source": [
    "#defining and fitting linear regression\n",
    "reg=LinearRegression()\n",
    "reg.fit(X_train,y_train)"
   ]
  },
  {
   "cell_type": "code",
   "execution_count": 13,
   "id": "8063c827",
   "metadata": {
    "execution": {
     "iopub.execute_input": "2023-03-29T05:19:04.782995Z",
     "iopub.status.busy": "2023-03-29T05:19:04.782531Z",
     "iopub.status.idle": "2023-03-29T05:19:04.820449Z",
     "shell.execute_reply": "2023-03-29T05:19:04.819019Z"
    },
    "papermill": {
     "duration": 0.048682,
     "end_time": "2023-03-29T05:19:04.823251",
     "exception": false,
     "start_time": "2023-03-29T05:19:04.774569",
     "status": "completed"
    },
    "tags": []
   },
   "outputs": [],
   "source": [
    "#predicting result \n",
    "y_pred=reg.predict(X_test)"
   ]
  },
  {
   "cell_type": "code",
   "execution_count": 14,
   "id": "cfa5717c",
   "metadata": {
    "execution": {
     "iopub.execute_input": "2023-03-29T05:19:04.838012Z",
     "iopub.status.busy": "2023-03-29T05:19:04.837563Z",
     "iopub.status.idle": "2023-03-29T05:19:04.877393Z",
     "shell.execute_reply": "2023-03-29T05:19:04.876075Z"
    },
    "papermill": {
     "duration": 0.050684,
     "end_time": "2023-03-29T05:19:04.880231",
     "exception": false,
     "start_time": "2023-03-29T05:19:04.829547",
     "status": "completed"
    },
    "tags": []
   },
   "outputs": [
    {
     "data": {
      "text/plain": [
       "array([[1596.12487654]])"
      ]
     },
     "execution_count": 14,
     "metadata": {},
     "output_type": "execute_result"
    }
   ],
   "source": [
    "y_pred=reg.predict([[22]])\n",
    "y_pred"
   ]
  },
  {
   "cell_type": "code",
   "execution_count": 15,
   "id": "d583a00e",
   "metadata": {
    "execution": {
     "iopub.execute_input": "2023-03-29T05:19:04.895834Z",
     "iopub.status.busy": "2023-03-29T05:19:04.894736Z",
     "iopub.status.idle": "2023-03-29T05:19:04.933482Z",
     "shell.execute_reply": "2023-03-29T05:19:04.932336Z"
    },
    "papermill": {
     "duration": 0.04903,
     "end_time": "2023-03-29T05:19:04.935994",
     "exception": false,
     "start_time": "2023-03-29T05:19:04.886964",
     "status": "completed"
    },
    "tags": []
   },
   "outputs": [
    {
     "data": {
      "text/plain": [
       "array([[1149.93048482]])"
      ]
     },
     "execution_count": 15,
     "metadata": {},
     "output_type": "execute_result"
    }
   ],
   "source": [
    "y_pred=reg.predict([[10]])\n",
    "y_pred"
   ]
  },
  {
   "cell_type": "markdown",
   "id": "8e8e553a",
   "metadata": {
    "papermill": {
     "duration": 0.00652,
     "end_time": "2023-03-29T05:19:04.949426",
     "exception": false,
     "start_time": "2023-03-29T05:19:04.942906",
     "status": "completed"
    },
    "tags": []
   },
   "source": [
    "**Observation: Here,we found that if we take 22 days as travel time , it will cost us total of $1596 as travel cost.**"
   ]
  },
  {
   "cell_type": "markdown",
   "id": "94c63c00",
   "metadata": {
    "papermill": {
     "duration": 0.006405,
     "end_time": "2023-03-29T05:19:04.962747",
     "exception": false,
     "start_time": "2023-03-29T05:19:04.956342",
     "status": "completed"
    },
    "tags": []
   },
   "source": [
    "**Similarly, if we take 10 days as travel time, it will cost us total of $1149 as travel cost.**"
   ]
  },
  {
   "cell_type": "code",
   "execution_count": 16,
   "id": "d68b5e8d",
   "metadata": {
    "execution": {
     "iopub.execute_input": "2023-03-29T05:19:04.977855Z",
     "iopub.status.busy": "2023-03-29T05:19:04.977446Z",
     "iopub.status.idle": "2023-03-29T05:19:05.014953Z",
     "shell.execute_reply": "2023-03-29T05:19:05.013815Z"
    },
    "papermill": {
     "duration": 0.048654,
     "end_time": "2023-03-29T05:19:05.017903",
     "exception": false,
     "start_time": "2023-03-29T05:19:04.969249",
     "status": "completed"
    },
    "tags": []
   },
   "outputs": [],
   "source": [
    "#taking varaible z as max altitude and v as time\n",
    "z=data['Max Altitude'].values.reshape(-1,1)\n",
    "v=data['Time'].values.reshape(-1,1)"
   ]
  },
  {
   "cell_type": "code",
   "execution_count": 17,
   "id": "c1eb765f",
   "metadata": {
    "execution": {
     "iopub.execute_input": "2023-03-29T05:19:05.033265Z",
     "iopub.status.busy": "2023-03-29T05:19:05.032454Z",
     "iopub.status.idle": "2023-03-29T05:19:05.070472Z",
     "shell.execute_reply": "2023-03-29T05:19:05.069229Z"
    },
    "papermill": {
     "duration": 0.048756,
     "end_time": "2023-03-29T05:19:05.073286",
     "exception": false,
     "start_time": "2023-03-29T05:19:05.024530",
     "status": "completed"
    },
    "tags": []
   },
   "outputs": [],
   "source": [
    "#splitting the data into training and testing phase\n",
    "X_train,X_test,y_train,y_test=train_test_split(z,v,test_size=0.8,random_state=42)"
   ]
  },
  {
   "cell_type": "code",
   "execution_count": 18,
   "id": "7c731c3c",
   "metadata": {
    "execution": {
     "iopub.execute_input": "2023-03-29T05:19:05.088910Z",
     "iopub.status.busy": "2023-03-29T05:19:05.088475Z",
     "iopub.status.idle": "2023-03-29T05:19:05.125833Z",
     "shell.execute_reply": "2023-03-29T05:19:05.124469Z"
    },
    "papermill": {
     "duration": 0.048844,
     "end_time": "2023-03-29T05:19:05.128792",
     "exception": false,
     "start_time": "2023-03-29T05:19:05.079948",
     "status": "completed"
    },
    "tags": []
   },
   "outputs": [],
   "source": [
    "#predicting results\n",
    "u_pred=reg.predict(X_test)"
   ]
  },
  {
   "cell_type": "code",
   "execution_count": 19,
   "id": "4a28c738",
   "metadata": {
    "execution": {
     "iopub.execute_input": "2023-03-29T05:19:05.144037Z",
     "iopub.status.busy": "2023-03-29T05:19:05.143594Z",
     "iopub.status.idle": "2023-03-29T05:19:05.185545Z",
     "shell.execute_reply": "2023-03-29T05:19:05.184432Z"
    },
    "papermill": {
     "duration": 0.053006,
     "end_time": "2023-03-29T05:19:05.188520",
     "exception": false,
     "start_time": "2023-03-29T05:19:05.135514",
     "status": "completed"
    },
    "tags": []
   },
   "outputs": [
    {
     "data": {
      "text/plain": [
       "array([[1335.8448147]])"
      ]
     },
     "execution_count": 19,
     "metadata": {},
     "output_type": "execute_result"
    }
   ],
   "source": [
    "u_pred=reg.predict([[15]])\n",
    "u_pred"
   ]
  },
  {
   "cell_type": "code",
   "execution_count": 20,
   "id": "efe45a25",
   "metadata": {
    "execution": {
     "iopub.execute_input": "2023-03-29T05:19:05.204752Z",
     "iopub.status.busy": "2023-03-29T05:19:05.203562Z",
     "iopub.status.idle": "2023-03-29T05:19:05.252200Z",
     "shell.execute_reply": "2023-03-29T05:19:05.251187Z"
    },
    "papermill": {
     "duration": 0.059199,
     "end_time": "2023-03-29T05:19:05.254565",
     "exception": false,
     "start_time": "2023-03-29T05:19:05.195366",
     "status": "completed"
    },
    "tags": []
   },
   "outputs": [
    {
     "data": {
      "text/plain": [
       "array([[1149.93048482]])"
      ]
     },
     "execution_count": 20,
     "metadata": {},
     "output_type": "execute_result"
    }
   ],
   "source": [
    "u_pred=reg.predict([[10]])\n",
    "u_pred"
   ]
  },
  {
   "cell_type": "markdown",
   "id": "ee84d59e",
   "metadata": {
    "papermill": {
     "duration": 0.006536,
     "end_time": "2023-03-29T05:19:05.268122",
     "exception": false,
     "start_time": "2023-03-29T05:19:05.261586",
     "status": "completed"
    },
    "tags": []
   },
   "source": [
    "**Observation: If we take 15 days as travel time , then we can climb altitude of 1135m and if we take 10 days as travel time,then we can only climb altitude of 1149m**"
   ]
  },
  {
   "cell_type": "markdown",
   "id": "a46a1efb",
   "metadata": {
    "papermill": {
     "duration": 0.00657,
     "end_time": "2023-03-29T05:19:05.281449",
     "exception": false,
     "start_time": "2023-03-29T05:19:05.274879",
     "status": "completed"
    },
    "tags": []
   },
   "source": [
    "# Finally we have finished applying LinearRegression"
   ]
  }
 ],
 "metadata": {
  "kernelspec": {
   "display_name": "Python 3",
   "language": "python",
   "name": "python3"
  },
  "language_info": {
   "codemirror_mode": {
    "name": "ipython",
    "version": 3
   },
   "file_extension": ".py",
   "mimetype": "text/x-python",
   "name": "python",
   "nbconvert_exporter": "python",
   "pygments_lexer": "ipython3",
   "version": "3.7.12"
  },
  "papermill": {
   "default_parameters": {},
   "duration": 13.160666,
   "end_time": "2023-03-29T05:19:06.011694",
   "environment_variables": {},
   "exception": null,
   "input_path": "__notebook__.ipynb",
   "output_path": "__notebook__.ipynb",
   "parameters": {},
   "start_time": "2023-03-29T05:18:52.851028",
   "version": "2.4.0"
  }
 },
 "nbformat": 4,
 "nbformat_minor": 5
}
