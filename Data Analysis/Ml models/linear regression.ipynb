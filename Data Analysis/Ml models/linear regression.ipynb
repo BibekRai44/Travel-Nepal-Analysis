{
 "cells": [
  {
   "cell_type": "code",
   "execution_count": 1,
   "id": "658e3c0c",
   "metadata": {
    "execution": {
     "iopub.execute_input": "2023-03-28T16:49:31.874500Z",
     "iopub.status.busy": "2023-03-28T16:49:31.873370Z",
     "iopub.status.idle": "2023-03-28T16:49:32.978403Z",
     "shell.execute_reply": "2023-03-28T16:49:32.976756Z"
    },
    "papermill": {
     "duration": 1.116673,
     "end_time": "2023-03-28T16:49:32.981563",
     "exception": false,
     "start_time": "2023-03-28T16:49:31.864890",
     "status": "completed"
    },
    "tags": []
   },
   "outputs": [],
   "source": [
    "#importing necessary libraries\n",
    "import pandas as pd\n",
    "import numpy as np\n",
    "import sklearn\n",
    "import warnings\n",
    "import re\n",
    "warnings.filterwarnings('ignore')"
   ]
  },
  {
   "cell_type": "code",
   "execution_count": 2,
   "id": "c6adc0d6",
   "metadata": {
    "execution": {
     "iopub.execute_input": "2023-03-28T16:49:32.993999Z",
     "iopub.status.busy": "2023-03-28T16:49:32.993576Z",
     "iopub.status.idle": "2023-03-28T16:49:33.040905Z",
     "shell.execute_reply": "2023-03-28T16:49:33.039765Z"
    },
    "papermill": {
     "duration": 0.056769,
     "end_time": "2023-03-28T16:49:33.043705",
     "exception": false,
     "start_time": "2023-03-28T16:49:32.986936",
     "status": "completed"
    },
    "tags": []
   },
   "outputs": [],
   "source": [
    "#necessary modeule\n",
    "\n",
    "%load_ext autoreload\n",
    "%autoreload 2"
   ]
  },
  {
   "cell_type": "code",
   "execution_count": 3,
   "id": "ec94bfa3",
   "metadata": {
    "execution": {
     "iopub.execute_input": "2023-03-28T16:49:33.056034Z",
     "iopub.status.busy": "2023-03-28T16:49:33.055589Z",
     "iopub.status.idle": "2023-03-28T16:49:33.111238Z",
     "shell.execute_reply": "2023-03-28T16:49:33.110075Z"
    },
    "papermill": {
     "duration": 0.065173,
     "end_time": "2023-03-28T16:49:33.114175",
     "exception": false,
     "start_time": "2023-03-28T16:49:33.049002",
     "status": "completed"
    },
    "tags": []
   },
   "outputs": [],
   "source": [
    "#reading dataset\n",
    "data=pd.read_csv('/kaggle/input/nepal-travel-data/Data.csv')"
   ]
  },
  {
   "cell_type": "code",
   "execution_count": 4,
   "id": "7f60b233",
   "metadata": {
    "execution": {
     "iopub.execute_input": "2023-03-28T16:49:33.126739Z",
     "iopub.status.busy": "2023-03-28T16:49:33.126228Z",
     "iopub.status.idle": "2023-03-28T16:49:33.174261Z",
     "shell.execute_reply": "2023-03-28T16:49:33.172915Z"
    },
    "papermill": {
     "duration": 0.057885,
     "end_time": "2023-03-28T16:49:33.177134",
     "exception": false,
     "start_time": "2023-03-28T16:49:33.119249",
     "status": "completed"
    },
    "tags": []
   },
   "outputs": [],
   "source": [
    "#dropping unwanted columns\n",
    "data=data.drop(columns='Unnamed: 0')"
   ]
  },
  {
   "cell_type": "code",
   "execution_count": 5,
   "id": "7cda5a56",
   "metadata": {
    "execution": {
     "iopub.execute_input": "2023-03-28T16:49:33.189871Z",
     "iopub.status.busy": "2023-03-28T16:49:33.188995Z",
     "iopub.status.idle": "2023-03-28T16:49:33.231727Z",
     "shell.execute_reply": "2023-03-28T16:49:33.230707Z"
    },
    "papermill": {
     "duration": 0.052078,
     "end_time": "2023-03-28T16:49:33.234522",
     "exception": false,
     "start_time": "2023-03-28T16:49:33.182444",
     "status": "completed"
    },
    "tags": []
   },
   "outputs": [],
   "source": [
    "#changing time column datatype\n",
    "data['Time'] = data['Time'].apply(lambda x: re.sub(r'\\b[Dd]ays?\\b', '', x)).astype(int)"
   ]
  },
  {
   "cell_type": "code",
   "execution_count": 6,
   "id": "c72274c3",
   "metadata": {
    "execution": {
     "iopub.execute_input": "2023-03-28T16:49:33.246722Z",
     "iopub.status.busy": "2023-03-28T16:49:33.246308Z",
     "iopub.status.idle": "2023-03-28T16:49:33.289847Z",
     "shell.execute_reply": "2023-03-28T16:49:33.288542Z"
    },
    "papermill": {
     "duration": 0.052882,
     "end_time": "2023-03-28T16:49:33.292621",
     "exception": false,
     "start_time": "2023-03-28T16:49:33.239739",
     "status": "completed"
    },
    "tags": []
   },
   "outputs": [],
   "source": [
    "#changing cost column datatype\n",
    "data['Cost']=data['Cost'].str.replace('$','').str.replace('USD','').str.replace(',','').str.replace('\\n','').astype(int)"
   ]
  },
  {
   "cell_type": "code",
   "execution_count": 7,
   "id": "af4c4f92",
   "metadata": {
    "execution": {
     "iopub.execute_input": "2023-03-28T16:49:33.305488Z",
     "iopub.status.busy": "2023-03-28T16:49:33.305041Z",
     "iopub.status.idle": "2023-03-28T16:49:33.345219Z",
     "shell.execute_reply": "2023-03-28T16:49:33.343877Z"
    },
    "papermill": {
     "duration": 0.050322,
     "end_time": "2023-03-28T16:49:33.348180",
     "exception": false,
     "start_time": "2023-03-28T16:49:33.297858",
     "status": "completed"
    },
    "tags": []
   },
   "outputs": [],
   "source": [
    "#changing altitude column datatype\n",
    "data['Max Altitude']=data['Max Altitude'].str.replace('m','').str.replace(',','').astype(int)"
   ]
  },
  {
   "cell_type": "code",
   "execution_count": 8,
   "id": "9d351971",
   "metadata": {
    "execution": {
     "iopub.execute_input": "2023-03-28T16:49:33.361680Z",
     "iopub.status.busy": "2023-03-28T16:49:33.361244Z",
     "iopub.status.idle": "2023-03-28T16:49:33.402880Z",
     "shell.execute_reply": "2023-03-28T16:49:33.401533Z"
    },
    "papermill": {
     "duration": 0.051449,
     "end_time": "2023-03-28T16:49:33.406011",
     "exception": false,
     "start_time": "2023-03-28T16:49:33.354562",
     "status": "completed"
    },
    "tags": []
   },
   "outputs": [
    {
     "data": {
      "text/plain": [
       "Trek                         object\n",
       "Cost                          int64\n",
       "Time                          int64\n",
       "Trip Grade                   object\n",
       "Max Altitude                  int64\n",
       "Accomodation                 object\n",
       "Best Travel Time             object\n",
       "Contact or Book your Trip    object\n",
       "dtype: object"
      ]
     },
     "execution_count": 8,
     "metadata": {},
     "output_type": "execute_result"
    }
   ],
   "source": [
    "#rechecking datatypes\n",
    "data.dtypes"
   ]
  },
  {
   "cell_type": "code",
   "execution_count": 9,
   "id": "ec91198c",
   "metadata": {
    "execution": {
     "iopub.execute_input": "2023-03-28T16:49:33.419313Z",
     "iopub.status.busy": "2023-03-28T16:49:33.418371Z",
     "iopub.status.idle": "2023-03-28T16:49:33.458077Z",
     "shell.execute_reply": "2023-03-28T16:49:33.456749Z"
    },
    "papermill": {
     "duration": 0.049575,
     "end_time": "2023-03-28T16:49:33.461118",
     "exception": false,
     "start_time": "2023-03-28T16:49:33.411543",
     "status": "completed"
    },
    "tags": []
   },
   "outputs": [],
   "source": [
    "x=data['Time'].values.reshape(-1,1)\n",
    "y=data['Cost'].values.reshape(-1,1)"
   ]
  },
  {
   "cell_type": "code",
   "execution_count": 10,
   "id": "b24098de",
   "metadata": {
    "execution": {
     "iopub.execute_input": "2023-03-28T16:49:33.475049Z",
     "iopub.status.busy": "2023-03-28T16:49:33.474607Z",
     "iopub.status.idle": "2023-03-28T16:49:33.734086Z",
     "shell.execute_reply": "2023-03-28T16:49:33.732785Z"
    },
    "papermill": {
     "duration": 0.270208,
     "end_time": "2023-03-28T16:49:33.737238",
     "exception": false,
     "start_time": "2023-03-28T16:49:33.467030",
     "status": "completed"
    },
    "tags": []
   },
   "outputs": [],
   "source": [
    "from sklearn.model_selection import train_test_split\n",
    "from sklearn.linear_model import LinearRegression"
   ]
  },
  {
   "cell_type": "code",
   "execution_count": 11,
   "id": "3ac7de6a",
   "metadata": {
    "execution": {
     "iopub.execute_input": "2023-03-28T16:49:33.749883Z",
     "iopub.status.busy": "2023-03-28T16:49:33.749472Z",
     "iopub.status.idle": "2023-03-28T16:49:33.790671Z",
     "shell.execute_reply": "2023-03-28T16:49:33.789429Z"
    },
    "papermill": {
     "duration": 0.050994,
     "end_time": "2023-03-28T16:49:33.793701",
     "exception": false,
     "start_time": "2023-03-28T16:49:33.742707",
     "status": "completed"
    },
    "tags": []
   },
   "outputs": [],
   "source": [
    "X_train,X_test,y_train,y_test=train_test_split(x,y,random_state=42,test_size=0.8)"
   ]
  },
  {
   "cell_type": "code",
   "execution_count": 12,
   "id": "3ef3478a",
   "metadata": {
    "execution": {
     "iopub.execute_input": "2023-03-28T16:49:33.806423Z",
     "iopub.status.busy": "2023-03-28T16:49:33.805959Z",
     "iopub.status.idle": "2023-03-28T16:49:33.867793Z",
     "shell.execute_reply": "2023-03-28T16:49:33.866672Z"
    },
    "papermill": {
     "duration": 0.071215,
     "end_time": "2023-03-28T16:49:33.870510",
     "exception": false,
     "start_time": "2023-03-28T16:49:33.799295",
     "status": "completed"
    },
    "tags": []
   },
   "outputs": [
    {
     "data": {
      "text/plain": [
       "LinearRegression()"
      ]
     },
     "execution_count": 12,
     "metadata": {},
     "output_type": "execute_result"
    }
   ],
   "source": [
    "reg=LinearRegression()\n",
    "reg.fit(X_train,y_train)"
   ]
  },
  {
   "cell_type": "code",
   "execution_count": 13,
   "id": "5a3591c8",
   "metadata": {
    "execution": {
     "iopub.execute_input": "2023-03-28T16:49:33.887618Z",
     "iopub.status.busy": "2023-03-28T16:49:33.886410Z",
     "iopub.status.idle": "2023-03-28T16:49:33.923818Z",
     "shell.execute_reply": "2023-03-28T16:49:33.922877Z"
    },
    "papermill": {
     "duration": 0.046973,
     "end_time": "2023-03-28T16:49:33.926602",
     "exception": false,
     "start_time": "2023-03-28T16:49:33.879629",
     "status": "completed"
    },
    "tags": []
   },
   "outputs": [],
   "source": [
    "y_pred=reg.predict(X_test)"
   ]
  },
  {
   "cell_type": "code",
   "execution_count": 14,
   "id": "9cb1beed",
   "metadata": {
    "execution": {
     "iopub.execute_input": "2023-03-28T16:49:33.939951Z",
     "iopub.status.busy": "2023-03-28T16:49:33.938984Z",
     "iopub.status.idle": "2023-03-28T16:49:33.980150Z",
     "shell.execute_reply": "2023-03-28T16:49:33.979251Z"
    },
    "papermill": {
     "duration": 0.050604,
     "end_time": "2023-03-28T16:49:33.982691",
     "exception": false,
     "start_time": "2023-03-28T16:49:33.932087",
     "status": "completed"
    },
    "tags": []
   },
   "outputs": [
    {
     "data": {
      "text/plain": [
       "array([[1596.12487654]])"
      ]
     },
     "execution_count": 14,
     "metadata": {},
     "output_type": "execute_result"
    }
   ],
   "source": [
    "y_pred=reg.predict([[22]])\n",
    "y_pred"
   ]
  },
  {
   "cell_type": "code",
   "execution_count": 15,
   "id": "947374cb",
   "metadata": {
    "execution": {
     "iopub.execute_input": "2023-03-28T16:49:33.996057Z",
     "iopub.status.busy": "2023-03-28T16:49:33.994874Z",
     "iopub.status.idle": "2023-03-28T16:49:34.034369Z",
     "shell.execute_reply": "2023-03-28T16:49:34.032902Z"
    },
    "papermill": {
     "duration": 0.049226,
     "end_time": "2023-03-28T16:49:34.037321",
     "exception": false,
     "start_time": "2023-03-28T16:49:33.988095",
     "status": "completed"
    },
    "tags": []
   },
   "outputs": [],
   "source": [
    "z=data['Max Altitude'].values.reshape(-1,1)\n",
    "v=data['Time'].values.reshape(-1,1)"
   ]
  },
  {
   "cell_type": "code",
   "execution_count": 16,
   "id": "71960f54",
   "metadata": {
    "execution": {
     "iopub.execute_input": "2023-03-28T16:49:34.051756Z",
     "iopub.status.busy": "2023-03-28T16:49:34.051326Z",
     "iopub.status.idle": "2023-03-28T16:49:34.090643Z",
     "shell.execute_reply": "2023-03-28T16:49:34.089299Z"
    },
    "papermill": {
     "duration": 0.04923,
     "end_time": "2023-03-28T16:49:34.093636",
     "exception": false,
     "start_time": "2023-03-28T16:49:34.044406",
     "status": "completed"
    },
    "tags": []
   },
   "outputs": [],
   "source": [
    "X_train,X_test,y_train,y_test=train_test_split(z,v,test_size=0.8,random_state=42)"
   ]
  },
  {
   "cell_type": "code",
   "execution_count": 17,
   "id": "8ba61410",
   "metadata": {
    "execution": {
     "iopub.execute_input": "2023-03-28T16:49:34.106753Z",
     "iopub.status.busy": "2023-03-28T16:49:34.106327Z",
     "iopub.status.idle": "2023-03-28T16:49:34.145453Z",
     "shell.execute_reply": "2023-03-28T16:49:34.143880Z"
    },
    "papermill": {
     "duration": 0.049213,
     "end_time": "2023-03-28T16:49:34.148468",
     "exception": false,
     "start_time": "2023-03-28T16:49:34.099255",
     "status": "completed"
    },
    "tags": []
   },
   "outputs": [],
   "source": [
    "u_pred=reg.predict(X_test)"
   ]
  },
  {
   "cell_type": "code",
   "execution_count": 18,
   "id": "223c2b1a",
   "metadata": {
    "execution": {
     "iopub.execute_input": "2023-03-28T16:49:34.162365Z",
     "iopub.status.busy": "2023-03-28T16:49:34.161868Z",
     "iopub.status.idle": "2023-03-28T16:49:34.203060Z",
     "shell.execute_reply": "2023-03-28T16:49:34.201783Z"
    },
    "papermill": {
     "duration": 0.05078,
     "end_time": "2023-03-28T16:49:34.205544",
     "exception": false,
     "start_time": "2023-03-28T16:49:34.154764",
     "status": "completed"
    },
    "tags": []
   },
   "outputs": [
    {
     "data": {
      "text/plain": [
       "array([[1149.93048482]])"
      ]
     },
     "execution_count": 18,
     "metadata": {},
     "output_type": "execute_result"
    }
   ],
   "source": [
    "u_pred=reg.predict([[10]])\n",
    "u_pred"
   ]
  },
  {
   "cell_type": "code",
   "execution_count": null,
   "id": "2e18d51b",
   "metadata": {
    "papermill": {
     "duration": 0.005269,
     "end_time": "2023-03-28T16:49:34.216497",
     "exception": false,
     "start_time": "2023-03-28T16:49:34.211228",
     "status": "completed"
    },
    "tags": []
   },
   "outputs": [],
   "source": []
  }
 ],
 "metadata": {
  "kernelspec": {
   "display_name": "Python 3",
   "language": "python",
   "name": "python3"
  },
  "language_info": {
   "codemirror_mode": {
    "name": "ipython",
    "version": 3
   },
   "file_extension": ".py",
   "mimetype": "text/x-python",
   "name": "python",
   "nbconvert_exporter": "python",
   "pygments_lexer": "ipython3",
   "version": "3.7.12"
  },
  "papermill": {
   "default_parameters": {},
   "duration": 13.873474,
   "end_time": "2023-03-28T16:49:34.945037",
   "environment_variables": {},
   "exception": null,
   "input_path": "__notebook__.ipynb",
   "output_path": "__notebook__.ipynb",
   "parameters": {},
   "start_time": "2023-03-28T16:49:21.071563",
   "version": "2.4.0"
  }
 },
 "nbformat": 4,
 "nbformat_minor": 5
}
