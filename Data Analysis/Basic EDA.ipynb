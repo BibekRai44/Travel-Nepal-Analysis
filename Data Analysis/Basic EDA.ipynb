{
 "cells": [
  {
   "cell_type": "markdown",
   "id": "6119e1a0",
   "metadata": {
    "papermill": {
     "duration": 0.006622,
     "end_time": "2023-03-28T05:43:39.584681",
     "exception": false,
     "start_time": "2023-03-28T05:43:39.578059",
     "status": "completed"
    },
    "tags": []
   },
   "source": [
    "## In this notebook, I have performed Exploratory Data Analysis."
   ]
  },
  {
   "cell_type": "code",
   "execution_count": 1,
   "id": "0af6d97e",
   "metadata": {
    "execution": {
     "iopub.execute_input": "2023-03-28T05:43:39.597882Z",
     "iopub.status.busy": "2023-03-28T05:43:39.597337Z",
     "iopub.status.idle": "2023-03-28T05:43:39.612174Z",
     "shell.execute_reply": "2023-03-28T05:43:39.610626Z"
    },
    "papermill": {
     "duration": 0.025081,
     "end_time": "2023-03-28T05:43:39.615332",
     "exception": false,
     "start_time": "2023-03-28T05:43:39.590251",
     "status": "completed"
    },
    "tags": []
   },
   "outputs": [],
   "source": [
    "#importing necessery analysis\n",
    "import pandas as pd\n",
    "import re\n",
    "import warnings\n",
    "warnings.filterwarnings('ignore')"
   ]
  },
  {
   "cell_type": "code",
   "execution_count": 2,
   "id": "be8e7121",
   "metadata": {
    "execution": {
     "iopub.execute_input": "2023-03-28T05:43:39.632553Z",
     "iopub.status.busy": "2023-03-28T05:43:39.631229Z",
     "iopub.status.idle": "2023-03-28T05:43:39.656455Z",
     "shell.execute_reply": "2023-03-28T05:43:39.654920Z"
    },
    "papermill": {
     "duration": 0.042454,
     "end_time": "2023-03-28T05:43:39.663640",
     "exception": false,
     "start_time": "2023-03-28T05:43:39.621186",
     "status": "completed"
    },
    "tags": []
   },
   "outputs": [],
   "source": [
    "#reading dataset\n",
    "data=pd.read_csv('/kaggle/input/nepal-travel-data/Data.csv')"
   ]
  },
  {
   "cell_type": "code",
   "execution_count": 3,
   "id": "85fe25e2",
   "metadata": {
    "execution": {
     "iopub.execute_input": "2023-03-28T05:43:39.679254Z",
     "iopub.status.busy": "2023-03-28T05:43:39.677831Z",
     "iopub.status.idle": "2023-03-28T05:43:39.695574Z",
     "shell.execute_reply": "2023-03-28T05:43:39.694372Z"
    },
    "papermill": {
     "duration": 0.028735,
     "end_time": "2023-03-28T05:43:39.698827",
     "exception": false,
     "start_time": "2023-03-28T05:43:39.670092",
     "status": "completed"
    },
    "tags": []
   },
   "outputs": [
    {
     "data": {
      "text/plain": [
       "Unnamed: 0                    int64\n",
       "Trek                         object\n",
       "Cost                         object\n",
       "Time                         object\n",
       "Trip Grade                   object\n",
       "Max Altitude                 object\n",
       "Accomodation                 object\n",
       "Best Travel Time             object\n",
       "Contact or Book your Trip    object\n",
       "dtype: object"
      ]
     },
     "execution_count": 3,
     "metadata": {},
     "output_type": "execute_result"
    }
   ],
   "source": [
    "#column data types\n",
    "data.dtypes"
   ]
  },
  {
   "cell_type": "code",
   "execution_count": 4,
   "id": "523fd119",
   "metadata": {
    "execution": {
     "iopub.execute_input": "2023-03-28T05:43:39.711825Z",
     "iopub.status.busy": "2023-03-28T05:43:39.711446Z",
     "iopub.status.idle": "2023-03-28T05:43:39.720540Z",
     "shell.execute_reply": "2023-03-28T05:43:39.719535Z"
    },
    "papermill": {
     "duration": 0.018429,
     "end_time": "2023-03-28T05:43:39.722914",
     "exception": false,
     "start_time": "2023-03-28T05:43:39.704485",
     "status": "completed"
    },
    "tags": []
   },
   "outputs": [],
   "source": [
    "#dropping unwanted columns\n",
    "data=data.drop(columns='Unnamed: 0')"
   ]
  },
  {
   "cell_type": "code",
   "execution_count": 5,
   "id": "874b85ba",
   "metadata": {
    "execution": {
     "iopub.execute_input": "2023-03-28T05:43:39.736880Z",
     "iopub.status.busy": "2023-03-28T05:43:39.736143Z",
     "iopub.status.idle": "2023-03-28T05:43:39.742337Z",
     "shell.execute_reply": "2023-03-28T05:43:39.741245Z"
    },
    "papermill": {
     "duration": 0.015633,
     "end_time": "2023-03-28T05:43:39.744493",
     "exception": false,
     "start_time": "2023-03-28T05:43:39.728860",
     "status": "completed"
    },
    "tags": []
   },
   "outputs": [
    {
     "data": {
      "text/plain": [
       "Index(['Trek', 'Cost', 'Time', 'Trip Grade', 'Max Altitude', 'Accomodation',\n",
       "       'Best Travel Time', 'Contact or Book your Trip'],\n",
       "      dtype='object')"
      ]
     },
     "execution_count": 5,
     "metadata": {},
     "output_type": "execute_result"
    }
   ],
   "source": [
    "#columns presented in dataset\n",
    "data.columns"
   ]
  },
  {
   "cell_type": "code",
   "execution_count": 6,
   "id": "310706fa",
   "metadata": {
    "execution": {
     "iopub.execute_input": "2023-03-28T05:43:39.758974Z",
     "iopub.status.busy": "2023-03-28T05:43:39.758183Z",
     "iopub.status.idle": "2023-03-28T05:43:39.780771Z",
     "shell.execute_reply": "2023-03-28T05:43:39.778970Z"
    },
    "papermill": {
     "duration": 0.033322,
     "end_time": "2023-03-28T05:43:39.784023",
     "exception": false,
     "start_time": "2023-03-28T05:43:39.750701",
     "status": "completed"
    },
    "tags": []
   },
   "outputs": [
    {
     "name": "stdout",
     "output_type": "stream",
     "text": [
      "<class 'pandas.core.frame.DataFrame'>\n",
      "RangeIndex: 383 entries, 0 to 382\n",
      "Data columns (total 8 columns):\n",
      " #   Column                     Non-Null Count  Dtype \n",
      "---  ------                     --------------  ----- \n",
      " 0   Trek                       383 non-null    object\n",
      " 1   Cost                       383 non-null    object\n",
      " 2   Time                       383 non-null    object\n",
      " 3   Trip Grade                 383 non-null    object\n",
      " 4   Max Altitude               383 non-null    object\n",
      " 5   Accomodation               133 non-null    object\n",
      " 6   Best Travel Time           133 non-null    object\n",
      " 7   Contact or Book your Trip  383 non-null    object\n",
      "dtypes: object(8)\n",
      "memory usage: 24.1+ KB\n"
     ]
    }
   ],
   "source": [
    "#basic info of the dataset\n",
    "data.info()"
   ]
  },
  {
   "cell_type": "code",
   "execution_count": 7,
   "id": "a3aedd4a",
   "metadata": {
    "execution": {
     "iopub.execute_input": "2023-03-28T05:43:39.798845Z",
     "iopub.status.busy": "2023-03-28T05:43:39.798111Z",
     "iopub.status.idle": "2023-03-28T05:43:39.836171Z",
     "shell.execute_reply": "2023-03-28T05:43:39.834632Z"
    },
    "papermill": {
     "duration": 0.048208,
     "end_time": "2023-03-28T05:43:39.838870",
     "exception": false,
     "start_time": "2023-03-28T05:43:39.790662",
     "status": "completed"
    },
    "tags": []
   },
   "outputs": [
    {
     "data": {
      "text/html": [
       "<div>\n",
       "<style scoped>\n",
       "    .dataframe tbody tr th:only-of-type {\n",
       "        vertical-align: middle;\n",
       "    }\n",
       "\n",
       "    .dataframe tbody tr th {\n",
       "        vertical-align: top;\n",
       "    }\n",
       "\n",
       "    .dataframe thead th {\n",
       "        text-align: right;\n",
       "    }\n",
       "</style>\n",
       "<table border=\"1\" class=\"dataframe\">\n",
       "  <thead>\n",
       "    <tr style=\"text-align: right;\">\n",
       "      <th></th>\n",
       "      <th>Trek</th>\n",
       "      <th>Cost</th>\n",
       "      <th>Time</th>\n",
       "      <th>Trip Grade</th>\n",
       "      <th>Max Altitude</th>\n",
       "      <th>Accomodation</th>\n",
       "      <th>Best Travel Time</th>\n",
       "      <th>Contact or Book your Trip</th>\n",
       "    </tr>\n",
       "  </thead>\n",
       "  <tbody>\n",
       "    <tr>\n",
       "      <th>count</th>\n",
       "      <td>383</td>\n",
       "      <td>383</td>\n",
       "      <td>383</td>\n",
       "      <td>383</td>\n",
       "      <td>383</td>\n",
       "      <td>133</td>\n",
       "      <td>133</td>\n",
       "      <td>383</td>\n",
       "    </tr>\n",
       "    <tr>\n",
       "      <th>unique</th>\n",
       "      <td>79</td>\n",
       "      <td>167</td>\n",
       "      <td>28</td>\n",
       "      <td>11</td>\n",
       "      <td>43</td>\n",
       "      <td>8</td>\n",
       "      <td>13</td>\n",
       "      <td>3</td>\n",
       "    </tr>\n",
       "    <tr>\n",
       "      <th>top</th>\n",
       "      <td>Annapurna Base Camp Trek</td>\n",
       "      <td>$1,499     USD</td>\n",
       "      <td>14 Days</td>\n",
       "      <td>Moderate</td>\n",
       "      <td>5,545m</td>\n",
       "      <td>Hotel/Guesthouse</td>\n",
       "      <td>March - May &amp; Sept - Dec</td>\n",
       "      <td>https://www.himalayanglacier.com</td>\n",
       "    </tr>\n",
       "    <tr>\n",
       "      <th>freq</th>\n",
       "      <td>10</td>\n",
       "      <td>36</td>\n",
       "      <td>56</td>\n",
       "      <td>92</td>\n",
       "      <td>55</td>\n",
       "      <td>62</td>\n",
       "      <td>36</td>\n",
       "      <td>185</td>\n",
       "    </tr>\n",
       "  </tbody>\n",
       "</table>\n",
       "</div>"
      ],
      "text/plain": [
       "                            Trek             Cost      Time Trip Grade  \\\n",
       "count                        383              383       383        383   \n",
       "unique                        79              167        28         11   \n",
       "top     Annapurna Base Camp Trek   $1,499     USD   14 Days   Moderate   \n",
       "freq                          10               36        56         92   \n",
       "\n",
       "       Max Altitude      Accomodation          Best Travel Time  \\\n",
       "count           383               133                       133   \n",
       "unique           43                 8                        13   \n",
       "top          5,545m  Hotel/Guesthouse  March - May & Sept - Dec   \n",
       "freq             55                62                        36   \n",
       "\n",
       "               Contact or Book your Trip  \n",
       "count                                383  \n",
       "unique                                 3  \n",
       "top     https://www.himalayanglacier.com  \n",
       "freq                                 185  "
      ]
     },
     "execution_count": 7,
     "metadata": {},
     "output_type": "execute_result"
    }
   ],
   "source": [
    "#describing the dataset\n",
    "data.describe()"
   ]
  },
  {
   "cell_type": "code",
   "execution_count": 8,
   "id": "60f06916",
   "metadata": {
    "execution": {
     "iopub.execute_input": "2023-03-28T05:43:39.853696Z",
     "iopub.status.busy": "2023-03-28T05:43:39.853029Z",
     "iopub.status.idle": "2023-03-28T05:43:39.859792Z",
     "shell.execute_reply": "2023-03-28T05:43:39.858848Z"
    },
    "papermill": {
     "duration": 0.016946,
     "end_time": "2023-03-28T05:43:39.862039",
     "exception": false,
     "start_time": "2023-03-28T05:43:39.845093",
     "status": "completed"
    },
    "tags": []
   },
   "outputs": [
    {
     "data": {
      "text/plain": [
       "(383, 8)"
      ]
     },
     "execution_count": 8,
     "metadata": {},
     "output_type": "execute_result"
    }
   ],
   "source": [
    "#we got 383 rows and 8 columns\n",
    "data.shape"
   ]
  },
  {
   "cell_type": "code",
   "execution_count": 9,
   "id": "de3bf4ba",
   "metadata": {
    "execution": {
     "iopub.execute_input": "2023-03-28T05:43:39.876606Z",
     "iopub.status.busy": "2023-03-28T05:43:39.875931Z",
     "iopub.status.idle": "2023-03-28T05:43:39.883309Z",
     "shell.execute_reply": "2023-03-28T05:43:39.882056Z"
    },
    "papermill": {
     "duration": 0.017573,
     "end_time": "2023-03-28T05:43:39.885752",
     "exception": false,
     "start_time": "2023-03-28T05:43:39.868179",
     "status": "completed"
    },
    "tags": []
   },
   "outputs": [
    {
     "data": {
      "text/plain": [
       "array([False, False, False, False, False, False, False, False])"
      ]
     },
     "execution_count": 9,
     "metadata": {},
     "output_type": "execute_result"
    }
   ],
   "source": [
    "#checking if there is any null columns or not\n",
    "data.columns.isnull()"
   ]
  },
  {
   "cell_type": "code",
   "execution_count": 10,
   "id": "c5840eb7",
   "metadata": {
    "execution": {
     "iopub.execute_input": "2023-03-28T05:43:39.899681Z",
     "iopub.status.busy": "2023-03-28T05:43:39.899334Z",
     "iopub.status.idle": "2023-03-28T05:43:39.907715Z",
     "shell.execute_reply": "2023-03-28T05:43:39.906628Z"
    },
    "papermill": {
     "duration": 0.018122,
     "end_time": "2023-03-28T05:43:39.910110",
     "exception": false,
     "start_time": "2023-03-28T05:43:39.891988",
     "status": "completed"
    },
    "tags": []
   },
   "outputs": [
    {
     "data": {
      "text/plain": [
       "Trek                           0\n",
       "Cost                           0\n",
       "Time                           0\n",
       "Trip Grade                     0\n",
       "Max Altitude                   0\n",
       "Accomodation                 250\n",
       "Best Travel Time             250\n",
       "Contact or Book your Trip      0\n",
       "dtype: int64"
      ]
     },
     "execution_count": 10,
     "metadata": {},
     "output_type": "execute_result"
    }
   ],
   "source": [
    "#checking total null values in columns\n",
    "data.isnull().sum()"
   ]
  },
  {
   "cell_type": "code",
   "execution_count": 11,
   "id": "3b48db36",
   "metadata": {
    "execution": {
     "iopub.execute_input": "2023-03-28T05:43:39.925539Z",
     "iopub.status.busy": "2023-03-28T05:43:39.925171Z",
     "iopub.status.idle": "2023-03-28T05:43:39.932040Z",
     "shell.execute_reply": "2023-03-28T05:43:39.930776Z"
    },
    "papermill": {
     "duration": 0.018284,
     "end_time": "2023-03-28T05:43:39.934607",
     "exception": false,
     "start_time": "2023-03-28T05:43:39.916323",
     "status": "completed"
    },
    "tags": []
   },
   "outputs": [],
   "source": [
    "#filling null values with data\n",
    "data['Accomodation']=data['Accomodation'].fillna('Hotel/Guesthouse')\n",
    "data['Best Travel Time']=data['Best Travel Time'].fillna('Jan- May & Sept - Dec')"
   ]
  },
  {
   "cell_type": "code",
   "execution_count": 12,
   "id": "119fc964",
   "metadata": {
    "execution": {
     "iopub.execute_input": "2023-03-28T05:43:39.949410Z",
     "iopub.status.busy": "2023-03-28T05:43:39.949014Z",
     "iopub.status.idle": "2023-03-28T05:43:39.958614Z",
     "shell.execute_reply": "2023-03-28T05:43:39.957455Z"
    },
    "papermill": {
     "duration": 0.019988,
     "end_time": "2023-03-28T05:43:39.961101",
     "exception": false,
     "start_time": "2023-03-28T05:43:39.941113",
     "status": "completed"
    },
    "tags": []
   },
   "outputs": [
    {
     "data": {
      "text/plain": [
       "Trek                         0\n",
       "Cost                         0\n",
       "Time                         0\n",
       "Trip Grade                   0\n",
       "Max Altitude                 0\n",
       "Accomodation                 0\n",
       "Best Travel Time             0\n",
       "Contact or Book your Trip    0\n",
       "dtype: int64"
      ]
     },
     "execution_count": 12,
     "metadata": {},
     "output_type": "execute_result"
    }
   ],
   "source": [
    "#rechecking total null values\n",
    "data.isnull().sum()"
   ]
  },
  {
   "cell_type": "code",
   "execution_count": 13,
   "id": "8033cd2b",
   "metadata": {
    "execution": {
     "iopub.execute_input": "2023-03-28T05:43:39.976028Z",
     "iopub.status.busy": "2023-03-28T05:43:39.975606Z",
     "iopub.status.idle": "2023-03-28T05:43:39.984047Z",
     "shell.execute_reply": "2023-03-28T05:43:39.983120Z"
    },
    "papermill": {
     "duration": 0.01889,
     "end_time": "2023-03-28T05:43:39.986403",
     "exception": false,
     "start_time": "2023-03-28T05:43:39.967513",
     "status": "completed"
    },
    "tags": []
   },
   "outputs": [
    {
     "data": {
      "text/plain": [
       "Trek                         1\n",
       "Cost                         1\n",
       "Time                         1\n",
       "Trip Grade                   1\n",
       "Max Altitude                 1\n",
       "Accomodation                 1\n",
       "Best Travel Time             1\n",
       "Contact or Book your Trip    1\n",
       "dtype: int64"
      ]
     },
     "execution_count": 13,
     "metadata": {},
     "output_type": "execute_result"
    }
   ],
   "source": [
    "#columns present in dataframe\n",
    "data.columns.value_counts()"
   ]
  },
  {
   "cell_type": "code",
   "execution_count": 14,
   "id": "81321980",
   "metadata": {
    "execution": {
     "iopub.execute_input": "2023-03-28T05:43:40.001224Z",
     "iopub.status.busy": "2023-03-28T05:43:40.000823Z",
     "iopub.status.idle": "2023-03-28T05:43:40.008779Z",
     "shell.execute_reply": "2023-03-28T05:43:40.007685Z"
    },
    "papermill": {
     "duration": 0.018033,
     "end_time": "2023-03-28T05:43:40.011132",
     "exception": false,
     "start_time": "2023-03-28T05:43:39.993099",
     "status": "completed"
    },
    "tags": []
   },
   "outputs": [
    {
     "data": {
      "text/plain": [
       "8"
      ]
     },
     "execution_count": 14,
     "metadata": {},
     "output_type": "execute_result"
    }
   ],
   "source": [
    "#total columns present in dataframe\n",
    "data.columns.value_counts().sum()"
   ]
  },
  {
   "cell_type": "code",
   "execution_count": 15,
   "id": "e1e056e9",
   "metadata": {
    "execution": {
     "iopub.execute_input": "2023-03-28T05:43:40.026249Z",
     "iopub.status.busy": "2023-03-28T05:43:40.025827Z",
     "iopub.status.idle": "2023-03-28T05:43:40.033661Z",
     "shell.execute_reply": "2023-03-28T05:43:40.032834Z"
    },
    "papermill": {
     "duration": 0.01798,
     "end_time": "2023-03-28T05:43:40.035709",
     "exception": false,
     "start_time": "2023-03-28T05:43:40.017729",
     "status": "completed"
    },
    "tags": []
   },
   "outputs": [
    {
     "data": {
      "text/plain": [
       "Moderate                 92\n",
       "Demanding                75\n",
       "Easy To Moderate         58\n",
       "Moderate+Demanding       40\n",
       "Moderate-Hard            30\n",
       "Easy                     25\n",
       "Strenuous                23\n",
       "Demanding+Challenging    20\n",
       "Easy-Moderate            10\n",
       "Light+Moderate            5\n",
       "Light                     5\n",
       "Name: Trip Grade, dtype: int64"
      ]
     },
     "execution_count": 15,
     "metadata": {},
     "output_type": "execute_result"
    }
   ],
   "source": [
    "#total types of trip grade\n",
    "data['Trip Grade'].value_counts()"
   ]
  },
  {
   "cell_type": "code",
   "execution_count": 16,
   "id": "0d4a3e9a",
   "metadata": {
    "execution": {
     "iopub.execute_input": "2023-03-28T05:43:40.051152Z",
     "iopub.status.busy": "2023-03-28T05:43:40.050676Z",
     "iopub.status.idle": "2023-03-28T05:43:40.061392Z",
     "shell.execute_reply": "2023-03-28T05:43:40.059978Z"
    },
    "papermill": {
     "duration": 0.021347,
     "end_time": "2023-03-28T05:43:40.063802",
     "exception": false,
     "start_time": "2023-03-28T05:43:40.042455",
     "status": "completed"
    },
    "tags": []
   },
   "outputs": [
    {
     "data": {
      "text/plain": [
       "Annapurna Base Camp Trek               10\n",
       "Manaslu Circuit Trek                   10\n",
       "Annapurna Circuit Trek                 10\n",
       "Upper Mustang Trek                     10\n",
       "Mardi Himal Trek                       10\n",
       "                                       ..\n",
       "Everest High Passes Trek                1\n",
       "Gokyo Lake Renjo La Pass Trek           1\n",
       "Everest Chola Pass Trek                 1\n",
       "Everest Base Camp Trek for Seniors      1\n",
       "Everest Base Camp Heli Shuttle Trek     1\n",
       "Name: Trek, Length: 79, dtype: int64"
      ]
     },
     "execution_count": 16,
     "metadata": {},
     "output_type": "execute_result"
    }
   ],
   "source": [
    "#total trek \n",
    "data['Trek'].value_counts()"
   ]
  },
  {
   "cell_type": "code",
   "execution_count": 17,
   "id": "f2df7878",
   "metadata": {
    "execution": {
     "iopub.execute_input": "2023-03-28T05:43:40.079531Z",
     "iopub.status.busy": "2023-03-28T05:43:40.079137Z",
     "iopub.status.idle": "2023-03-28T05:43:40.087395Z",
     "shell.execute_reply": "2023-03-28T05:43:40.086358Z"
    },
    "papermill": {
     "duration": 0.018845,
     "end_time": "2023-03-28T05:43:40.089615",
     "exception": false,
     "start_time": "2023-03-28T05:43:40.070770",
     "status": "completed"
    },
    "tags": []
   },
   "outputs": [
    {
     "data": {
      "text/plain": [
       "Hotel/Guesthouse       312\n",
       "Hotel/Teahouses         30\n",
       "Hotel/Teahouse          11\n",
       "Hotel/Lodges            10\n",
       "Hotel/Guest Houses       5\n",
       "Hotel/Guesthouses        5\n",
       "Hotel/Luxury Lodges      5\n",
       "Teahouses/Lodges         5\n",
       "Name: Accomodation, dtype: int64"
      ]
     },
     "execution_count": 17,
     "metadata": {},
     "output_type": "execute_result"
    }
   ],
   "source": [
    "#total type of accomodation \n",
    "data['Accomodation'].value_counts()"
   ]
  },
  {
   "cell_type": "code",
   "execution_count": 18,
   "id": "f0b0e48f",
   "metadata": {
    "execution": {
     "iopub.execute_input": "2023-03-28T05:43:40.105591Z",
     "iopub.status.busy": "2023-03-28T05:43:40.105204Z",
     "iopub.status.idle": "2023-03-28T05:43:40.114215Z",
     "shell.execute_reply": "2023-03-28T05:43:40.113106Z"
    },
    "papermill": {
     "duration": 0.019858,
     "end_time": "2023-03-28T05:43:40.116606",
     "exception": false,
     "start_time": "2023-03-28T05:43:40.096748",
     "status": "completed"
    },
    "tags": []
   },
   "outputs": [
    {
     "data": {
      "text/plain": [
       "5,545m     55\n",
       "5,416m     35\n",
       "4210 m     25\n",
       "3,870m     20\n",
       "5416 m     20\n",
       "4,130m     15\n",
       "5220 m     10\n",
       "3,210m     10\n",
       "4,500m     10\n",
       "5,000m     10\n",
       "4200 m     10\n",
       "5,357m     10\n",
       "5050 m     10\n",
       "5545 m      9\n",
       "5106 m      5\n",
       "4600m       5\n",
       "4,773m      5\n",
       "4200m       5\n",
       "3,860m      5\n",
       "1,550m      5\n",
       "5,122m      5\n",
       "4,460m      5\n",
       "5,320m      5\n",
       "4,870m      5\n",
       "1,730m      5\n",
       "6,000m      5\n",
       "5,143m      5\n",
       "5,546m      5\n",
       "3,055m      5\n",
       "4230 m      5\n",
       "5,160m      5\n",
       "3,540m      5\n",
       "4,200 m     5\n",
       "6,340m      5\n",
       "2012m       5\n",
       "3210 m      5\n",
       "1990 m      5\n",
       "3650 m      5\n",
       "2607 m      5\n",
       "5,220m      5\n",
       "3860 m      2\n",
       "5360 m      1\n",
       "3900 m      1\n",
       "Name: Max Altitude, dtype: int64"
      ]
     },
     "execution_count": 18,
     "metadata": {},
     "output_type": "execute_result"
    }
   ],
   "source": [
    "#total trek with altitude\n",
    "data['Max Altitude'].value_counts()"
   ]
  },
  {
   "cell_type": "markdown",
   "id": "d001bf55",
   "metadata": {
    "papermill": {
     "duration": 0.007283,
     "end_time": "2023-03-28T05:43:40.131145",
     "exception": false,
     "start_time": "2023-03-28T05:43:40.123862",
     "status": "completed"
    },
    "tags": []
   },
   "source": [
    "**Observation : we got 55 trek of height 5545m, 35 trek of height 5416m and so on**"
   ]
  },
  {
   "cell_type": "code",
   "execution_count": 19,
   "id": "88a764cd",
   "metadata": {
    "execution": {
     "iopub.execute_input": "2023-03-28T05:43:40.147622Z",
     "iopub.status.busy": "2023-03-28T05:43:40.147233Z",
     "iopub.status.idle": "2023-03-28T05:43:40.159853Z",
     "shell.execute_reply": "2023-03-28T05:43:40.158795Z"
    },
    "papermill": {
     "duration": 0.024139,
     "end_time": "2023-03-28T05:43:40.162649",
     "exception": false,
     "start_time": "2023-03-28T05:43:40.138510",
     "status": "completed"
    },
    "tags": []
   },
   "outputs": [],
   "source": [
    "#exporting final data in csv format\n",
    "data.to_csv('test.csv',index=True)"
   ]
  },
  {
   "cell_type": "code",
   "execution_count": null,
   "id": "00112fec",
   "metadata": {
    "papermill": {
     "duration": 0.006976,
     "end_time": "2023-03-28T05:43:40.176848",
     "exception": false,
     "start_time": "2023-03-28T05:43:40.169872",
     "status": "completed"
    },
    "tags": []
   },
   "outputs": [],
   "source": []
  }
 ],
 "metadata": {
  "kernelspec": {
   "display_name": "Python 3",
   "language": "python",
   "name": "python3"
  },
  "language_info": {
   "codemirror_mode": {
    "name": "ipython",
    "version": 3
   },
   "file_extension": ".py",
   "mimetype": "text/x-python",
   "name": "python",
   "nbconvert_exporter": "python",
   "pygments_lexer": "ipython3",
   "version": "3.7.12"
  },
  "papermill": {
   "default_parameters": {},
   "duration": 11.182658,
   "end_time": "2023-03-28T05:43:40.805634",
   "environment_variables": {},
   "exception": null,
   "input_path": "__notebook__.ipynb",
   "output_path": "__notebook__.ipynb",
   "parameters": {},
   "start_time": "2023-03-28T05:43:29.622976",
   "version": "2.4.0"
  }
 },
 "nbformat": 4,
 "nbformat_minor": 5
}
