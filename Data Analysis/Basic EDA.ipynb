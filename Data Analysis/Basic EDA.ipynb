{
 "cells": [
  {
   "attachments": {},
   "cell_type": "markdown",
   "metadata": {},
   "source": [
    "## In this notebook, I have performed Exploratory Data Analysis."
   ]
  },
  {
   "cell_type": "code",
   "execution_count": 88,
   "metadata": {},
   "outputs": [],
   "source": [
    "#importing necessery analysis\n",
    "import pandas as pd\n",
    "import warnings\n",
    "warnings.filterwarnings('ignore')"
   ]
  },
  {
   "cell_type": "code",
   "execution_count": 89,
   "metadata": {},
   "outputs": [],
   "source": [
    "#reading dataset\n",
    "data=pd.read_csv('/Users/bibekrai/tensorflow-test/Travel-Nepal-Analysis/Data.csv')"
   ]
  },
  {
   "cell_type": "code",
   "execution_count": 90,
   "metadata": {},
   "outputs": [
    {
     "data": {
      "text/plain": [
       "Unnamed: 0                    int64\n",
       "Trek                         object\n",
       "Cost                         object\n",
       "Time                         object\n",
       "Trip Grade                   object\n",
       "Max Altitude                 object\n",
       "Accomodation                 object\n",
       "Best Travel Time             object\n",
       "Contact or Book your Trip    object\n",
       "dtype: object"
      ]
     },
     "execution_count": 90,
     "metadata": {},
     "output_type": "execute_result"
    }
   ],
   "source": [
    "data.dtypes"
   ]
  },
  {
   "cell_type": "code",
   "execution_count": 91,
   "metadata": {},
   "outputs": [],
   "source": [
    "data['Cost']=data['Cost'].str.replace('$','').str.replace(' ','').str.replace('USD','').str.replace('\\n','').str.replace(',','')"
   ]
  },
  {
   "cell_type": "code",
   "execution_count": 92,
   "metadata": {},
   "outputs": [
    {
     "data": {
      "text/plain": [
       "Unnamed: 0                    int64\n",
       "Trek                         object\n",
       "Cost                         object\n",
       "Time                         object\n",
       "Trip Grade                   object\n",
       "Max Altitude                 object\n",
       "Accomodation                 object\n",
       "Best Travel Time             object\n",
       "Contact or Book your Trip    object\n",
       "dtype: object"
      ]
     },
     "execution_count": 92,
     "metadata": {},
     "output_type": "execute_result"
    }
   ],
   "source": [
    "data.dtypes"
   ]
  },
  {
   "cell_type": "code",
   "execution_count": 93,
   "metadata": {},
   "outputs": [],
   "source": [
    "data['Cost']=data['Cost'].astype(str).astype(int)"
   ]
  },
  {
   "cell_type": "code",
   "execution_count": 94,
   "metadata": {},
   "outputs": [],
   "source": [
    "data.to_csv('test.csv')"
   ]
  },
  {
   "cell_type": "code",
   "execution_count": 95,
   "metadata": {},
   "outputs": [],
   "source": [
    "new=pd.read_csv('/Users/bibekrai/tensorflow-test/Travel-Nepal-Analysis/Data Analysis/test.csv')"
   ]
  },
  {
   "cell_type": "code",
   "execution_count": 96,
   "metadata": {},
   "outputs": [
    {
     "data": {
      "text/plain": [
       "Unnamed: 0.1                  int64\n",
       "Unnamed: 0                    int64\n",
       "Trek                         object\n",
       "Cost                          int64\n",
       "Time                         object\n",
       "Trip Grade                   object\n",
       "Max Altitude                 object\n",
       "Accomodation                 object\n",
       "Best Travel Time             object\n",
       "Contact or Book your Trip    object\n",
       "dtype: object"
      ]
     },
     "execution_count": 96,
     "metadata": {},
     "output_type": "execute_result"
    }
   ],
   "source": [
    "new.dtypes"
   ]
  },
  {
   "cell_type": "code",
   "execution_count": 97,
   "metadata": {},
   "outputs": [
    {
     "data": {
      "text/plain": [
       "0      1420\n",
       "1      1295\n",
       "2      2000\n",
       "3      3300\n",
       "4      1800\n",
       "       ... \n",
       "378     450\n",
       "379    2100\n",
       "380     590\n",
       "381     690\n",
       "382    1190\n",
       "Name: Cost, Length: 383, dtype: int64"
      ]
     },
     "execution_count": 97,
     "metadata": {},
     "output_type": "execute_result"
    }
   ],
   "source": [
    "new['Cost'].astype(str).astype(int)"
   ]
  },
  {
   "cell_type": "code",
   "execution_count": null,
   "metadata": {},
   "outputs": [],
   "source": []
  }
 ],
 "metadata": {
  "kernelspec": {
   "display_name": "Python 3",
   "language": "python",
   "name": "python3"
  },
  "language_info": {
   "codemirror_mode": {
    "name": "ipython",
    "version": 3
   },
   "file_extension": ".py",
   "mimetype": "text/x-python",
   "name": "python",
   "nbconvert_exporter": "python",
   "pygments_lexer": "ipython3",
   "version": "3.10.6"
  },
  "orig_nbformat": 4
 },
 "nbformat": 4,
 "nbformat_minor": 2
}
