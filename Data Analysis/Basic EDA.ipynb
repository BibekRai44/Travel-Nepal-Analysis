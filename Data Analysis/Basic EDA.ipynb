{
 "cells": [
  {
   "attachments": {},
   "cell_type": "markdown",
   "metadata": {},
   "source": [
    "## In this notebook, I have performed Exploratory Data Analysis."
   ]
  },
  {
   "cell_type": "code",
   "execution_count": 240,
   "metadata": {},
   "outputs": [],
   "source": [
    "#importing necessery analysis\n",
    "import pandas as pd\n",
    "import re\n",
    "import warnings\n",
    "warnings.filterwarnings('ignore')"
   ]
  },
  {
   "cell_type": "code",
   "execution_count": 241,
   "metadata": {},
   "outputs": [],
   "source": [
    "#reading dataset\n",
    "data=pd.read_csv('/Users/bibekrai/tensorflow-test/Travel-Nepal-Analysis/Data.csv')"
   ]
  },
  {
   "cell_type": "code",
   "execution_count": 242,
   "metadata": {},
   "outputs": [
    {
     "data": {
      "text/plain": [
       "Unnamed: 0                    int64\n",
       "Trek                         object\n",
       "Cost                         object\n",
       "Time                         object\n",
       "Trip Grade                   object\n",
       "Max Altitude                 object\n",
       "Accomodation                 object\n",
       "Best Travel Time             object\n",
       "Contact or Book your Trip    object\n",
       "dtype: object"
      ]
     },
     "execution_count": 242,
     "metadata": {},
     "output_type": "execute_result"
    }
   ],
   "source": [
    "#column data types\n",
    "data.dtypes"
   ]
  },
  {
   "cell_type": "code",
   "execution_count": 243,
   "metadata": {},
   "outputs": [],
   "source": [
    "#dropping unwanted columns\n",
    "data=data.drop(columns='Unnamed: 0')"
   ]
  },
  {
   "cell_type": "code",
   "execution_count": 244,
   "metadata": {},
   "outputs": [
    {
     "data": {
      "text/plain": [
       "Index(['Trek', 'Cost', 'Time', 'Trip Grade', 'Max Altitude', 'Accomodation',\n",
       "       'Best Travel Time', 'Contact or Book your Trip'],\n",
       "      dtype='object')"
      ]
     },
     "execution_count": 244,
     "metadata": {},
     "output_type": "execute_result"
    }
   ],
   "source": [
    "#columns presented in dataset\n",
    "data.columns"
   ]
  },
  {
   "cell_type": "code",
   "execution_count": 245,
   "metadata": {},
   "outputs": [
    {
     "name": "stdout",
     "output_type": "stream",
     "text": [
      "<class 'pandas.core.frame.DataFrame'>\n",
      "RangeIndex: 383 entries, 0 to 382\n",
      "Data columns (total 8 columns):\n",
      " #   Column                     Non-Null Count  Dtype \n",
      "---  ------                     --------------  ----- \n",
      " 0   Trek                       383 non-null    object\n",
      " 1   Cost                       383 non-null    object\n",
      " 2   Time                       383 non-null    object\n",
      " 3   Trip Grade                 383 non-null    object\n",
      " 4   Max Altitude               383 non-null    object\n",
      " 5   Accomodation               133 non-null    object\n",
      " 6   Best Travel Time           133 non-null    object\n",
      " 7   Contact or Book your Trip  383 non-null    object\n",
      "dtypes: object(8)\n",
      "memory usage: 24.1+ KB\n"
     ]
    }
   ],
   "source": [
    "#basic info of the dataset\n",
    "data.info()"
   ]
  },
  {
   "cell_type": "code",
   "execution_count": 246,
   "metadata": {},
   "outputs": [
    {
     "data": {
      "text/html": [
       "<div>\n",
       "<style scoped>\n",
       "    .dataframe tbody tr th:only-of-type {\n",
       "        vertical-align: middle;\n",
       "    }\n",
       "\n",
       "    .dataframe tbody tr th {\n",
       "        vertical-align: top;\n",
       "    }\n",
       "\n",
       "    .dataframe thead th {\n",
       "        text-align: right;\n",
       "    }\n",
       "</style>\n",
       "<table border=\"1\" class=\"dataframe\">\n",
       "  <thead>\n",
       "    <tr style=\"text-align: right;\">\n",
       "      <th></th>\n",
       "      <th>Trek</th>\n",
       "      <th>Cost</th>\n",
       "      <th>Time</th>\n",
       "      <th>Trip Grade</th>\n",
       "      <th>Max Altitude</th>\n",
       "      <th>Accomodation</th>\n",
       "      <th>Best Travel Time</th>\n",
       "      <th>Contact or Book your Trip</th>\n",
       "    </tr>\n",
       "  </thead>\n",
       "  <tbody>\n",
       "    <tr>\n",
       "      <th>count</th>\n",
       "      <td>383</td>\n",
       "      <td>383</td>\n",
       "      <td>383</td>\n",
       "      <td>383</td>\n",
       "      <td>383</td>\n",
       "      <td>133</td>\n",
       "      <td>133</td>\n",
       "      <td>383</td>\n",
       "    </tr>\n",
       "    <tr>\n",
       "      <th>unique</th>\n",
       "      <td>79</td>\n",
       "      <td>167</td>\n",
       "      <td>28</td>\n",
       "      <td>11</td>\n",
       "      <td>43</td>\n",
       "      <td>8</td>\n",
       "      <td>13</td>\n",
       "      <td>3</td>\n",
       "    </tr>\n",
       "    <tr>\n",
       "      <th>top</th>\n",
       "      <td>Annapurna Base Camp Trek</td>\n",
       "      <td>$1,499     USD</td>\n",
       "      <td>14 Days</td>\n",
       "      <td>Moderate</td>\n",
       "      <td>5,545m</td>\n",
       "      <td>Hotel/Guesthouse</td>\n",
       "      <td>March - May &amp; Sept - Dec</td>\n",
       "      <td>https://www.himalayanglacier.com</td>\n",
       "    </tr>\n",
       "    <tr>\n",
       "      <th>freq</th>\n",
       "      <td>10</td>\n",
       "      <td>36</td>\n",
       "      <td>56</td>\n",
       "      <td>92</td>\n",
       "      <td>55</td>\n",
       "      <td>62</td>\n",
       "      <td>36</td>\n",
       "      <td>185</td>\n",
       "    </tr>\n",
       "  </tbody>\n",
       "</table>\n",
       "</div>"
      ],
      "text/plain": [
       "                            Trek             Cost      Time Trip Grade  \\\n",
       "count                        383              383       383        383   \n",
       "unique                        79              167        28         11   \n",
       "top     Annapurna Base Camp Trek   $1,499     USD   14 Days   Moderate   \n",
       "freq                          10               36        56         92   \n",
       "\n",
       "       Max Altitude      Accomodation          Best Travel Time  \\\n",
       "count           383               133                       133   \n",
       "unique           43                 8                        13   \n",
       "top          5,545m  Hotel/Guesthouse  March - May & Sept - Dec   \n",
       "freq             55                62                        36   \n",
       "\n",
       "               Contact or Book your Trip  \n",
       "count                                383  \n",
       "unique                                 3  \n",
       "top     https://www.himalayanglacier.com  \n",
       "freq                                 185  "
      ]
     },
     "execution_count": 246,
     "metadata": {},
     "output_type": "execute_result"
    }
   ],
   "source": [
    "#describing the dataset\n",
    "data.describe()"
   ]
  },
  {
   "cell_type": "code",
   "execution_count": 247,
   "metadata": {},
   "outputs": [
    {
     "data": {
      "text/plain": [
       "(383, 8)"
      ]
     },
     "execution_count": 247,
     "metadata": {},
     "output_type": "execute_result"
    }
   ],
   "source": [
    "#we got 383 rows and 8 columns\n",
    "data.shape"
   ]
  },
  {
   "cell_type": "code",
   "execution_count": 248,
   "metadata": {},
   "outputs": [
    {
     "data": {
      "text/plain": [
       "array([False, False, False, False, False, False, False, False])"
      ]
     },
     "execution_count": 248,
     "metadata": {},
     "output_type": "execute_result"
    }
   ],
   "source": [
    "#checking if there is any null columns or not\n",
    "data.columns.isnull()"
   ]
  },
  {
   "cell_type": "code",
   "execution_count": 249,
   "metadata": {},
   "outputs": [
    {
     "data": {
      "text/plain": [
       "Trek                           0\n",
       "Cost                           0\n",
       "Time                           0\n",
       "Trip Grade                     0\n",
       "Max Altitude                   0\n",
       "Accomodation                 250\n",
       "Best Travel Time             250\n",
       "Contact or Book your Trip      0\n",
       "dtype: int64"
      ]
     },
     "execution_count": 249,
     "metadata": {},
     "output_type": "execute_result"
    }
   ],
   "source": [
    "#checking total null values in columns\n",
    "data.isnull().sum()"
   ]
  },
  {
   "cell_type": "code",
   "execution_count": 250,
   "metadata": {},
   "outputs": [],
   "source": [
    "#filling null values with data\n",
    "data['Accomodation']=data['Accomodation'].fillna('Hotel/Guesthouse')\n",
    "data['Best Travel Time']=data['Best Travel Time'].fillna('Jan- May & Sept - Dec')"
   ]
  },
  {
   "cell_type": "code",
   "execution_count": 251,
   "metadata": {},
   "outputs": [
    {
     "data": {
      "text/plain": [
       "Trek                         0\n",
       "Cost                         0\n",
       "Time                         0\n",
       "Trip Grade                   0\n",
       "Max Altitude                 0\n",
       "Accomodation                 0\n",
       "Best Travel Time             0\n",
       "Contact or Book your Trip    0\n",
       "dtype: int64"
      ]
     },
     "execution_count": 251,
     "metadata": {},
     "output_type": "execute_result"
    }
   ],
   "source": [
    "#rechecking total null values\n",
    "data.isnull().sum()"
   ]
  },
  {
   "cell_type": "code",
   "execution_count": 252,
   "metadata": {},
   "outputs": [
    {
     "data": {
      "text/plain": [
       "Trek                         1\n",
       "Cost                         1\n",
       "Time                         1\n",
       "Trip Grade                   1\n",
       "Max Altitude                 1\n",
       "Accomodation                 1\n",
       "Best Travel Time             1\n",
       "Contact or Book your Trip    1\n",
       "dtype: int64"
      ]
     },
     "execution_count": 252,
     "metadata": {},
     "output_type": "execute_result"
    }
   ],
   "source": [
    "#columns present in dataframe\n",
    "data.columns.value_counts()"
   ]
  },
  {
   "cell_type": "code",
   "execution_count": 253,
   "metadata": {},
   "outputs": [
    {
     "data": {
      "text/plain": [
       "8"
      ]
     },
     "execution_count": 253,
     "metadata": {},
     "output_type": "execute_result"
    }
   ],
   "source": [
    "#total columns present in dataframe\n",
    "data.columns.value_counts().sum()"
   ]
  },
  {
   "cell_type": "code",
   "execution_count": 254,
   "metadata": {},
   "outputs": [
    {
     "data": {
      "text/plain": [
       "Moderate                 92\n",
       "Demanding                75\n",
       "Easy To Moderate         58\n",
       "Moderate+Demanding       40\n",
       "Moderate-Hard            30\n",
       "Easy                     25\n",
       "Strenuous                23\n",
       "Demanding+Challenging    20\n",
       "Easy-Moderate            10\n",
       "Light+Moderate            5\n",
       "Light                     5\n",
       "Name: Trip Grade, dtype: int64"
      ]
     },
     "execution_count": 254,
     "metadata": {},
     "output_type": "execute_result"
    }
   ],
   "source": [
    "#total types of trip grade\n",
    "data['Trip Grade'].value_counts()"
   ]
  },
  {
   "cell_type": "code",
   "execution_count": 255,
   "metadata": {},
   "outputs": [
    {
     "data": {
      "text/plain": [
       "Annapurna Base Camp Trek               10\n",
       "Manaslu Circuit Trek                   10\n",
       "Annapurna Circuit Trek                 10\n",
       "Upper Mustang Trek                     10\n",
       "Mardi Himal Trek                       10\n",
       "                                       ..\n",
       "Everest High Passes Trek                1\n",
       "Gokyo Lake Renjo La Pass Trek           1\n",
       "Everest Chola Pass Trek                 1\n",
       "Everest Base Camp Trek for Seniors      1\n",
       "Everest Base Camp Heli Shuttle Trek     1\n",
       "Name: Trek, Length: 79, dtype: int64"
      ]
     },
     "execution_count": 255,
     "metadata": {},
     "output_type": "execute_result"
    }
   ],
   "source": [
    "#total trek \n",
    "data['Trek'].value_counts()"
   ]
  },
  {
   "cell_type": "code",
   "execution_count": 256,
   "metadata": {},
   "outputs": [
    {
     "data": {
      "text/plain": [
       "Hotel/Guesthouse       312\n",
       "Hotel/Teahouses         30\n",
       "Hotel/Teahouse          11\n",
       "Hotel/Lodges            10\n",
       "Hotel/Guest Houses       5\n",
       "Hotel/Guesthouses        5\n",
       "Hotel/Luxury Lodges      5\n",
       "Teahouses/Lodges         5\n",
       "Name: Accomodation, dtype: int64"
      ]
     },
     "execution_count": 256,
     "metadata": {},
     "output_type": "execute_result"
    }
   ],
   "source": [
    "#total type of accomodation \n",
    "data['Accomodation'].value_counts()"
   ]
  },
  {
   "cell_type": "code",
   "execution_count": 257,
   "metadata": {},
   "outputs": [],
   "source": [
    "data.to_csv('test.csv',index=True)"
   ]
  },
  {
   "cell_type": "code",
   "execution_count": null,
   "metadata": {},
   "outputs": [],
   "source": []
  }
 ],
 "metadata": {
  "kernelspec": {
   "display_name": "Python 3",
   "language": "python",
   "name": "python3"
  },
  "language_info": {
   "codemirror_mode": {
    "name": "ipython",
    "version": 3
   },
   "file_extension": ".py",
   "mimetype": "text/x-python",
   "name": "python",
   "nbconvert_exporter": "python",
   "pygments_lexer": "ipython3",
   "version": "3.10.6"
  },
  "orig_nbformat": 4
 },
 "nbformat": 4,
 "nbformat_minor": 2
}
