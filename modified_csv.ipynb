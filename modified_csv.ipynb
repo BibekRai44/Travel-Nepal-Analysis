{
 "cells": [
  {
   "cell_type": "code",
   "execution_count": 292,
   "metadata": {},
   "outputs": [],
   "source": [
    "import pandas as pd\n",
    "import numpy as np\n",
    "import seaborn as sns\n",
    "import matplotlib\n",
    "from matplotlib import pyplot as plt\n",
    "%matplotlib inline \n",
    "import scipy\n",
    "import warnings\n",
    "warnings.filterwarnings('ignore')"
   ]
  },
  {
   "cell_type": "code",
   "execution_count": 293,
   "metadata": {},
   "outputs": [],
   "source": [
    "data=pd.read_csv('/Users/bibekrai/tensorflow-test/Nepal Travel/Data.csv')"
   ]
  },
  {
   "cell_type": "code",
   "execution_count": 294,
   "metadata": {},
   "outputs": [],
   "source": [
    "data.loc[2,'Cost']='All Inclusive Price:\\n$2000USD'\n",
    "data.loc[8,'Cost']='All Inclusive Price:\\n$1060USD'\n",
    "data.loc[9,'Cost']='All Inclusive Price:\\n$1150USD'\n",
    "data.loc[10,'Cost']='All Inclusive Price:\\n$1100USD'"
   ]
  },
  {
   "cell_type": "code",
   "execution_count": 295,
   "metadata": {},
   "outputs": [],
   "source": [
    "data.to_csv('everest.csv',index=False)"
   ]
  },
  {
   "cell_type": "code",
   "execution_count": 296,
   "metadata": {},
   "outputs": [],
   "source": [
    "langtangdata=pd.read_csv('/Users/bibekrai/tensorflow-test/Nepal Travel/langtang.csv')"
   ]
  },
  {
   "cell_type": "code",
   "execution_count": 297,
   "metadata": {},
   "outputs": [],
   "source": [
    "langtangdata.loc[3,'Cost']='All Inclusive Price:\\n$750USD'"
   ]
  },
  {
   "cell_type": "code",
   "execution_count": 298,
   "metadata": {},
   "outputs": [],
   "source": [
    "langtangdata.to_csv('langtang.csv',index=False)"
   ]
  },
  {
   "cell_type": "code",
   "execution_count": 299,
   "metadata": {},
   "outputs": [],
   "source": [
    "df1=pd.read_csv('everest.csv')\n",
    "df2=pd.read_csv('annapurnaData.csv')\n",
    "df3=pd.read_csv('manaslu.csv')\n",
    "df4=pd.read_csv('mustang.csv')\n",
    "df5=pd.read_csv('langtang.csv')\n",
    "mergeddf=pd.concat([df1,df2,df3,df4,df5])"
   ]
  },
  {
   "cell_type": "code",
   "execution_count": 300,
   "metadata": {},
   "outputs": [],
   "source": [
    "mergeddf.drop(columns='Unnamed: 0',inplace=True)\n",
    "mergeddf.to_csv('mergeddata.csv',index=False)"
   ]
  },
  {
   "cell_type": "code",
   "execution_count": 301,
   "metadata": {},
   "outputs": [],
   "source": [
    "df = pd.concat(\n",
    "    map(pd.read_csv, ['mergeddata.csv', 'himalayanglacier.csv','adventure.csv']), ignore_index=True)\n",
    "df.drop(columns='Unnamed: 0',inplace=True)\n",
    "df.to_csv('final_data.csv',index=True)"
   ]
  },
  {
   "cell_type": "code",
   "execution_count": 302,
   "metadata": {},
   "outputs": [],
   "source": [
    "final_data=pd.read_csv('/Users/bibekrai/tensorflow-test/Nepal Travel/final_data.csv')"
   ]
  },
  {
   "cell_type": "code",
   "execution_count": 303,
   "metadata": {},
   "outputs": [],
   "source": [
    "final_data.drop(columns='Unnamed: 0',inplace=True)\n",
    "final_data['Cost']=final_data['Cost'].str.replace('All Inclusive Price:','').str.replace('US','').str.replace('D','') + ' USD'\n",
    "final_data['Time']=final_data['Time'].str.replace('Duration:','')\n",
    "final_data['Max Altitude']=final_data['Max Altitude'].str.replace('Meters','m')\n",
    "final_data['Max Altitude']=final_data['Max Altitude'].str.replace('Meter','m')\n",
    "final_data['Max Altitude']=final_data['Max Altitude'].str.replace('mm','m')\n",
    "final_data['Max Altitude'] = final_data['Max Altitude'].str.split('/', n=1).str[0]\n",
    "final_data['Best Travel Time']=final_data['Best Travel Time'].str.replace('to','-').str.replace('and','&')"
   ]
  },
  {
   "cell_type": "code",
   "execution_count": 304,
   "metadata": {},
   "outputs": [],
   "source": [
    "final_data.to_csv('data.csv')"
   ]
  }
 ],
 "metadata": {
  "kernelspec": {
   "display_name": "Python 3",
   "language": "python",
   "name": "python3"
  },
  "language_info": {
   "codemirror_mode": {
    "name": "ipython",
    "version": 3
   },
   "file_extension": ".py",
   "mimetype": "text/x-python",
   "name": "python",
   "nbconvert_exporter": "python",
   "pygments_lexer": "ipython3",
   "version": "3.10.6"
  },
  "orig_nbformat": 4
 },
 "nbformat": 4,
 "nbformat_minor": 2
}
