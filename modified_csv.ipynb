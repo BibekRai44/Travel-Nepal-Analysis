{
 "cells": [
  {
   "cell_type": "code",
   "execution_count": 97,
   "metadata": {},
   "outputs": [],
   "source": [
    "import pandas as pd\n",
    "import numpy as np\n",
    "import seaborn as sns\n",
    "import matplotlib\n",
    "from matplotlib import pyplot as plt\n",
    "%matplotlib inline \n",
    "import scipy\n",
    "import warnings\n",
    "warnings.filterwarnings('ignore')"
   ]
  },
  {
   "cell_type": "code",
   "execution_count": 98,
   "metadata": {},
   "outputs": [],
   "source": [
    "data=pd.read_csv('/Users/bibekrai/tensorflow-test/Nepal Travel/Data.csv')"
   ]
  },
  {
   "cell_type": "code",
   "execution_count": 101,
   "metadata": {},
   "outputs": [],
   "source": [
    "data.loc[2,'Cost']='All Inclusive Price:\\n$2000USD'\n",
    "data.loc[8,'Cost']='All Inclusive Price:\\n$1060USD'\n",
    "data.loc[9,'Cost']='All Inclusive Price:\\n$1150USD'\n",
    "data.loc[10,'Cost']='All Inclusive Price:\\n$1100USD'"
   ]
  },
  {
   "cell_type": "code",
   "execution_count": 104,
   "metadata": {},
   "outputs": [],
   "source": [
    "data.to_csv('everest.csv',index=False)"
   ]
  },
  {
   "cell_type": "code",
   "execution_count": 111,
   "metadata": {},
   "outputs": [],
   "source": [
    "langtangdata=pd.read_csv('/Users/bibekrai/tensorflow-test/Nepal Travel/langtang.csv')"
   ]
  },
  {
   "cell_type": "code",
   "execution_count": 107,
   "metadata": {},
   "outputs": [],
   "source": [
    "langtangdata.loc[3,'Cost']='All Inclusive Price:\\n$750USD'"
   ]
  },
  {
   "cell_type": "code",
   "execution_count": 108,
   "metadata": {},
   "outputs": [],
   "source": [
    "langtangdata.to_csv('langtang.csv',index=False)"
   ]
  },
  {
   "cell_type": "code",
   "execution_count": 109,
   "metadata": {},
   "outputs": [],
   "source": [
    "df1=pd.read_csv('everest.csv')\n",
    "df2=pd.read_csv('annapurnaData.csv')\n",
    "df3=pd.read_csv('manaslu.csv')\n",
    "df4=pd.read_csv('mustang.csv')\n",
    "df5=pd.read_csv('langtang.csv')\n",
    "mergeddf=pd.concat([df1,df2,df3,df4,df5])"
   ]
  },
  {
   "cell_type": "code",
   "execution_count": 110,
   "metadata": {},
   "outputs": [],
   "source": [
    "mergeddf.drop(columns='Unnamed: 0',inplace=True)\n",
    "mergeddf.to_csv('mergeddata.csv',index=False)"
   ]
  },
  {
   "cell_type": "code",
   "execution_count": null,
   "metadata": {},
   "outputs": [],
   "source": []
  }
 ],
 "metadata": {
  "kernelspec": {
   "display_name": "Python 3",
   "language": "python",
   "name": "python3"
  },
  "language_info": {
   "codemirror_mode": {
    "name": "ipython",
    "version": 3
   },
   "file_extension": ".py",
   "mimetype": "text/x-python",
   "name": "python",
   "nbconvert_exporter": "python",
   "pygments_lexer": "ipython3",
   "version": "3.10.6"
  },
  "orig_nbformat": 4
 },
 "nbformat": 4,
 "nbformat_minor": 2
}
