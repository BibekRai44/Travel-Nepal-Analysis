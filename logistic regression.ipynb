{
 "cells": [
  {
   "cell_type": "code",
   "execution_count": 1,
   "id": "2572cf9c",
   "metadata": {
    "execution": {
     "iopub.execute_input": "2023-03-29T07:47:55.900913Z",
     "iopub.status.busy": "2023-03-29T07:47:55.900193Z",
     "iopub.status.idle": "2023-03-29T07:47:55.914096Z",
     "shell.execute_reply": "2023-03-29T07:47:55.912865Z"
    },
    "papermill": {
     "duration": 0.024204,
     "end_time": "2023-03-29T07:47:55.916870",
     "exception": false,
     "start_time": "2023-03-29T07:47:55.892666",
     "status": "completed"
    },
    "tags": []
   },
   "outputs": [],
   "source": [
    "import pandas as pd"
   ]
  },
  {
   "cell_type": "markdown",
   "id": "3716a799",
   "metadata": {
    "papermill": {
     "duration": 0.003984,
     "end_time": "2023-03-29T07:47:55.925389",
     "exception": false,
     "start_time": "2023-03-29T07:47:55.921405",
     "status": "completed"
    },
    "tags": []
   },
   "source": [
    "# In this notebook, I have built Logistic Regression model to predict Accomodation type based on Trek Altitude"
   ]
  },
  {
   "cell_type": "code",
   "execution_count": 2,
   "id": "9574f29a",
   "metadata": {
    "execution": {
     "iopub.execute_input": "2023-03-29T07:47:55.935861Z",
     "iopub.status.busy": "2023-03-29T07:47:55.935467Z",
     "iopub.status.idle": "2023-03-29T07:47:55.940648Z",
     "shell.execute_reply": "2023-03-29T07:47:55.939373Z"
    },
    "papermill": {
     "duration": 0.013732,
     "end_time": "2023-03-29T07:47:55.943330",
     "exception": false,
     "start_time": "2023-03-29T07:47:55.929598",
     "status": "completed"
    },
    "tags": []
   },
   "outputs": [],
   "source": [
    "#importing necessary libraries\n",
    "import pandas as pd"
   ]
  },
  {
   "cell_type": "code",
   "execution_count": 3,
   "id": "430dae36",
   "metadata": {
    "execution": {
     "iopub.execute_input": "2023-03-29T07:47:55.954135Z",
     "iopub.status.busy": "2023-03-29T07:47:55.953716Z",
     "iopub.status.idle": "2023-03-29T07:47:55.975683Z",
     "shell.execute_reply": "2023-03-29T07:47:55.974316Z"
    },
    "papermill": {
     "duration": 0.030866,
     "end_time": "2023-03-29T07:47:55.978781",
     "exception": false,
     "start_time": "2023-03-29T07:47:55.947915",
     "status": "completed"
    },
    "tags": []
   },
   "outputs": [],
   "source": [
    "#reading data\n",
    "data=pd.read_csv('/kaggle/input/nepal-travel-data/Data.csv')"
   ]
  },
  {
   "cell_type": "code",
   "execution_count": 4,
   "id": "459ac5a0",
   "metadata": {
    "execution": {
     "iopub.execute_input": "2023-03-29T07:47:55.989168Z",
     "iopub.status.busy": "2023-03-29T07:47:55.988695Z",
     "iopub.status.idle": "2023-03-29T07:47:56.003906Z",
     "shell.execute_reply": "2023-03-29T07:47:56.002648Z"
    },
    "papermill": {
     "duration": 0.023565,
     "end_time": "2023-03-29T07:47:56.006669",
     "exception": false,
     "start_time": "2023-03-29T07:47:55.983104",
     "status": "completed"
    },
    "tags": []
   },
   "outputs": [],
   "source": [
    "#dropping unwanted columns\n",
    "data=data.drop(columns='Unnamed: 0')"
   ]
  },
  {
   "cell_type": "code",
   "execution_count": 5,
   "id": "637ee0bd",
   "metadata": {
    "execution": {
     "iopub.execute_input": "2023-03-29T07:47:56.017298Z",
     "iopub.status.busy": "2023-03-29T07:47:56.016856Z",
     "iopub.status.idle": "2023-03-29T07:47:56.027720Z",
     "shell.execute_reply": "2023-03-29T07:47:56.026293Z"
    },
    "papermill": {
     "duration": 0.019335,
     "end_time": "2023-03-29T07:47:56.030492",
     "exception": false,
     "start_time": "2023-03-29T07:47:56.011157",
     "status": "completed"
    },
    "tags": []
   },
   "outputs": [],
   "source": [
    "#changing altitude column datatype\n",
    "data['Max Altitude']=data['Max Altitude'].str.replace('m','').str.replace(',','').astype(int)"
   ]
  },
  {
   "cell_type": "code",
   "execution_count": 6,
   "id": "97456199",
   "metadata": {
    "execution": {
     "iopub.execute_input": "2023-03-29T07:47:56.041662Z",
     "iopub.status.busy": "2023-03-29T07:47:56.040535Z",
     "iopub.status.idle": "2023-03-29T07:47:56.047696Z",
     "shell.execute_reply": "2023-03-29T07:47:56.046354Z"
    },
    "papermill": {
     "duration": 0.015489,
     "end_time": "2023-03-29T07:47:56.050267",
     "exception": false,
     "start_time": "2023-03-29T07:47:56.034778",
     "status": "completed"
    },
    "tags": []
   },
   "outputs": [],
   "source": [
    "#filling NAN value \n",
    "data['Accomodation']=data['Accomodation'].fillna(value='Hotel/GuestHouse')"
   ]
  },
  {
   "cell_type": "code",
   "execution_count": 7,
   "id": "acfe5f1a",
   "metadata": {
    "execution": {
     "iopub.execute_input": "2023-03-29T07:47:56.061144Z",
     "iopub.status.busy": "2023-03-29T07:47:56.060319Z",
     "iopub.status.idle": "2023-03-29T07:47:56.065931Z",
     "shell.execute_reply": "2023-03-29T07:47:56.064987Z"
    },
    "papermill": {
     "duration": 0.014009,
     "end_time": "2023-03-29T07:47:56.068526",
     "exception": false,
     "start_time": "2023-03-29T07:47:56.054517",
     "status": "completed"
    },
    "tags": []
   },
   "outputs": [],
   "source": [
    "#declaring variable x as max altitude and y as accomodation\n",
    "x=data['Max Altitude'].values.reshape(-1,1)\n",
    "y=data['Accomodation'].values.reshape(-1,1)"
   ]
  },
  {
   "cell_type": "code",
   "execution_count": 8,
   "id": "22c25820",
   "metadata": {
    "execution": {
     "iopub.execute_input": "2023-03-29T07:47:56.079459Z",
     "iopub.status.busy": "2023-03-29T07:47:56.078586Z",
     "iopub.status.idle": "2023-03-29T07:47:57.314057Z",
     "shell.execute_reply": "2023-03-29T07:47:57.312690Z"
    },
    "papermill": {
     "duration": 1.244771,
     "end_time": "2023-03-29T07:47:57.317512",
     "exception": false,
     "start_time": "2023-03-29T07:47:56.072741",
     "status": "completed"
    },
    "tags": []
   },
   "outputs": [],
   "source": [
    "#importing necessary libraries for Logistic regresssion\n",
    "import sklearn\n",
    "from sklearn.linear_model import LogisticRegression\n",
    "from sklearn.model_selection import train_test_split"
   ]
  },
  {
   "cell_type": "code",
   "execution_count": 9,
   "id": "17aa4ea0",
   "metadata": {
    "execution": {
     "iopub.execute_input": "2023-03-29T07:47:57.330612Z",
     "iopub.status.busy": "2023-03-29T07:47:57.330040Z",
     "iopub.status.idle": "2023-03-29T07:47:57.339816Z",
     "shell.execute_reply": "2023-03-29T07:47:57.338417Z"
    },
    "papermill": {
     "duration": 0.01988,
     "end_time": "2023-03-29T07:47:57.343728",
     "exception": false,
     "start_time": "2023-03-29T07:47:57.323848",
     "status": "completed"
    },
    "tags": []
   },
   "outputs": [],
   "source": [
    "#splitting data into training and testing phase\n",
    "X_train,X_test,y_train,y_test=train_test_split(x,y,test_size=0.8,random_state=42)"
   ]
  },
  {
   "cell_type": "code",
   "execution_count": 10,
   "id": "6a913ae2",
   "metadata": {
    "execution": {
     "iopub.execute_input": "2023-03-29T07:47:57.357409Z",
     "iopub.status.busy": "2023-03-29T07:47:57.356928Z",
     "iopub.status.idle": "2023-03-29T07:47:57.386183Z",
     "shell.execute_reply": "2023-03-29T07:47:57.385304Z"
    },
    "papermill": {
     "duration": 0.040391,
     "end_time": "2023-03-29T07:47:57.391529",
     "exception": false,
     "start_time": "2023-03-29T07:47:57.351138",
     "status": "completed"
    },
    "tags": []
   },
   "outputs": [
    {
     "name": "stderr",
     "output_type": "stream",
     "text": [
      "/opt/conda/lib/python3.7/site-packages/sklearn/utils/validation.py:993: DataConversionWarning: A column-vector y was passed when a 1d array was expected. Please change the shape of y to (n_samples, ), for example using ravel().\n",
      "  y = column_or_1d(y, warn=True)\n"
     ]
    },
    {
     "data": {
      "text/plain": [
       "LogisticRegression()"
      ]
     },
     "execution_count": 10,
     "metadata": {},
     "output_type": "execute_result"
    }
   ],
   "source": [
    "#fitting Logistic Regression\n",
    "reg=LogisticRegression()\n",
    "reg.fit(X_train,y_train)"
   ]
  },
  {
   "cell_type": "code",
   "execution_count": 11,
   "id": "4997baad",
   "metadata": {
    "execution": {
     "iopub.execute_input": "2023-03-29T07:47:57.403640Z",
     "iopub.status.busy": "2023-03-29T07:47:57.402911Z",
     "iopub.status.idle": "2023-03-29T07:47:57.407913Z",
     "shell.execute_reply": "2023-03-29T07:47:57.406828Z"
    },
    "papermill": {
     "duration": 0.013673,
     "end_time": "2023-03-29T07:47:57.410300",
     "exception": false,
     "start_time": "2023-03-29T07:47:57.396627",
     "status": "completed"
    },
    "tags": []
   },
   "outputs": [],
   "source": [
    "y_pred=reg.predict(X_test)"
   ]
  },
  {
   "cell_type": "code",
   "execution_count": 12,
   "id": "93d8e293",
   "metadata": {
    "execution": {
     "iopub.execute_input": "2023-03-29T07:47:57.421525Z",
     "iopub.status.busy": "2023-03-29T07:47:57.420944Z",
     "iopub.status.idle": "2023-03-29T07:47:57.429679Z",
     "shell.execute_reply": "2023-03-29T07:47:57.428317Z"
    },
    "papermill": {
     "duration": 0.017091,
     "end_time": "2023-03-29T07:47:57.432012",
     "exception": false,
     "start_time": "2023-03-29T07:47:57.414921",
     "status": "completed"
    },
    "tags": []
   },
   "outputs": [
    {
     "data": {
      "text/plain": [
       "array(['Hotel/GuestHouse'], dtype=object)"
      ]
     },
     "execution_count": 12,
     "metadata": {},
     "output_type": "execute_result"
    }
   ],
   "source": [
    "y_pred=reg.predict([[4000]])\n",
    "y_pred"
   ]
  },
  {
   "cell_type": "markdown",
   "id": "85f992c7",
   "metadata": {
    "papermill": {
     "duration": 0.004186,
     "end_time": "2023-03-29T07:47:57.440747",
     "exception": false,
     "start_time": "2023-03-29T07:47:57.436561",
     "status": "completed"
    },
    "tags": []
   },
   "source": [
    "**Observation: we found out that at 4000m altitude we probably will get Hotel/GuestHouse as accomodation.**"
   ]
  },
  {
   "cell_type": "markdown",
   "id": "3826169a",
   "metadata": {
    "papermill": {
     "duration": 0.00411,
     "end_time": "2023-03-29T07:47:57.449400",
     "exception": false,
     "start_time": "2023-03-29T07:47:57.445290",
     "status": "completed"
    },
    "tags": []
   },
   "source": [
    "# Finally ,Logistic Regression is built and applied."
   ]
  }
 ],
 "metadata": {
  "kernelspec": {
   "display_name": "Python 3",
   "language": "python",
   "name": "python3"
  },
  "language_info": {
   "codemirror_mode": {
    "name": "ipython",
    "version": 3
   },
   "file_extension": ".py",
   "mimetype": "text/x-python",
   "name": "python",
   "nbconvert_exporter": "python",
   "pygments_lexer": "ipython3",
   "version": "3.7.12"
  },
  "papermill": {
   "default_parameters": {},
   "duration": 13.925626,
   "end_time": "2023-03-29T07:47:58.278739",
   "environment_variables": {},
   "exception": null,
   "input_path": "__notebook__.ipynb",
   "output_path": "__notebook__.ipynb",
   "parameters": {},
   "start_time": "2023-03-29T07:47:44.353113",
   "version": "2.4.0"
  }
 },
 "nbformat": 4,
 "nbformat_minor": 5
}
